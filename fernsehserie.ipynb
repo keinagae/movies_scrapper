{
 "cells": [
  {
   "cell_type": "code",
   "execution_count": 1,
   "metadata": {},
   "outputs": [],
   "source": [
    "import scrapy\n",
    "import json\n",
    "from scrapy.utils.response import open_in_browser\n",
    "import requests"
   ]
  },
  {
   "cell_type": "code",
   "execution_count": 16,
   "metadata": {},
   "outputs": [],
   "source": [
    "from scrapy.http import TextResponse,HtmlResponse\n",
    "from pymongo import MongoClient"
   ]
  },
  {
   "cell_type": "code",
   "execution_count": 3,
   "metadata": {},
   "outputs": [],
   "source": [
    "db=MongoClient()"
   ]
  },
  {
   "cell_type": "code",
   "execution_count": 4,
   "metadata": {},
   "outputs": [],
   "source": [
    "stations=db.stations"
   ]
  },
  {
   "cell_type": "code",
   "execution_count": 5,
   "metadata": {},
   "outputs": [],
   "source": [
    "station=stations['2019_3SAT']"
   ]
  },
  {
   "cell_type": "code",
   "execution_count": 6,
   "outputs": [],
   "source": [
    "show=station.find({})[0]"
   ],
   "metadata": {
    "collapsed": false,
    "pycharm": {
     "name": "#%%\n"
    }
   }
  },
  {
   "cell_type": "code",
   "execution_count": 7,
   "outputs": [
    {
     "data": {
      "text/plain": "{'_id': ObjectId('5fae374ee587a0bb7590fdb7'),\n 'show_id': ';1020463513',\n 'title': 'Lederstrumpf',\n 'subtitle': 'Der Wildtöter',\n 'originaltitel': '',\n 'sender_genre': 'Abenteuerfilm\\nFernsehfilm',\n 'dmb_haupt_genre': 'TV-Film',\n 'dmb_neben_genre': 'TV-Abenteuerfilm',\n 'produktion_land': 'Deutschland / Frankreich',\n 'produktion_jahr': '1969',\n 'hinweissender': '',\n 'titel_ergaenzung': 'Der Wildtöter',\n 'ausstrahlung_start': '',\n 'ausstrahlung_sender_start': '2019-01-04T13:00:00',\n 'ausstrahlung_stop': '2019-01-04T14:30:00',\n 'ausstrahlung_dauer': '90',\n 'nettolaenge': '88',\n 'ausstrahlung_sender': '3SAT',\n 'produzierender_sender': '',\n 'dmbInfoset_ProduktionsLaender_ProduktionsLand': 'Deutschland',\n 'dmbFolgetitel': '',\n 'dmbStaffel': '',\n 'dmbFolge': '',\n 'dmbProduktionsJahr': '1969',\n 'dmbOriginalFolgetitel': '',\n 'staff': [],\n 'produktionsLand': [{'land': 'Deutschland', 'kfz': 'D', 'alpha3': 'DEU'},\n  {'land': 'Frankreich', 'kfz': 'F', 'alpha3': 'FRA'}],\n 'crew_united_url': '',\n 'crew_united_productions': [],\n 'crew_united_koproduzent_productions': [],\n 'cu_first_showing_country': '',\n 'cu_first_showing_station': '',\n 'cu_first_showing_date_time': '',\n 'imdb_id': '',\n 'imdb_link': '',\n 'imdb_distributors': [],\n 'imdb_productions': [],\n 'imdb_flag': '',\n 'cu_flag': ''}"
     },
     "execution_count": 7,
     "metadata": {},
     "output_type": "execute_result"
    }
   ],
   "source": [
    "show"
   ],
   "metadata": {
    "collapsed": false,
    "pycharm": {
     "name": "#%%\n"
    }
   }
  },
  {
   "cell_type": "code",
   "execution_count": 8,
   "outputs": [],
   "source": [
    "session=requests.Session()\n",
    "# response=requests.post('https://www.fernsehserien.de/fastsearch',data={'suchwort':'Lederstrumpf'})"
   ],
   "metadata": {
    "collapsed": false,
    "pycharm": {
     "name": "#%%\n"
    }
   }
  },
  {
   "cell_type": "code",
   "execution_count": 9,
   "outputs": [
    {
     "data": {
      "text/plain": "<RequestsCookieJar[Cookie(version=0, name='PHPSESSID', value='lo0nfd7oin36di16cjvpvftnmc', port=None, port_specified=False, domain='www.fernsehserien.de', domain_specified=False, domain_initial_dot=False, path='/', path_specified=True, secure=False, expires=None, discard=True, comment=None, comment_url=None, rest={}, rfc2109=False)]>"
     },
     "execution_count": 9,
     "metadata": {},
     "output_type": "execute_result"
    }
   ],
   "source": [
    "session.get('https://www.fernsehserien.de').cookies"
   ],
   "metadata": {
    "collapsed": false,
    "pycharm": {
     "name": "#%%\n"
    }
   }
  },
  {
   "cell_type": "code",
   "execution_count": 12,
   "outputs": [],
   "source": [
    "headers={\n",
    "    'Content-Type': 'application/json'\n",
    "}\n",
    "re=session.post('https://www.fernsehserien.de/suche/Lederstrumpf')"
   ],
   "metadata": {
    "collapsed": false,
    "pycharm": {
     "name": "#%%\n"
    }
   }
  },
  {
   "cell_type": "code",
   "execution_count": 19,
   "outputs": [],
   "source": [
    "res = requests.get('https://www.fernsehserien.de/suche/Lederstrumpf')\n",
    "response = HtmlResponse(res.url, body=res.text, encoding='utf-8')"
   ],
   "metadata": {
    "collapsed": false,
    "pycharm": {
     "name": "#%%\n"
    }
   }
  },
  {
   "cell_type": "code",
   "execution_count": 20,
   "outputs": [
    {
     "data": {
      "text/plain": "True"
     },
     "execution_count": 20,
     "metadata": {},
     "output_type": "execute_result"
    }
   ],
   "source": [
    "open_in_browser(response)"
   ],
   "metadata": {
    "collapsed": false,
    "pycharm": {
     "name": "#%%\n"
    }
   }
  },
  {
   "cell_type": "code",
   "execution_count": 22,
   "outputs": [],
   "source": [
    "results=response.xpath('//*[@id=\"fs-frame-2\"]/main/div/article/ul/li/a')"
   ],
   "metadata": {
    "collapsed": false,
    "pycharm": {
     "name": "#%%\n"
    }
   }
  },
  {
   "cell_type": "code",
   "execution_count": 38,
   "outputs": [
    {
     "name": "stdout",
     "output_type": "stream",
     "text": [
      "['/', '\\xa01994–1995 (', ')']\n",
      "['/', '\\xa01969 (', ')']\n",
      "['Film, ', '\\xa01957 (', ')']\n",
      "['Film, ', '\\xa01995 (', ')']\n",
      "['Film, ', '/', '\\xa01965 (', ')']\n",
      "['Film, ', '\\xa01952 (', ')']\n"
     ]
    }
   ],
   "source": [
    "for result in results:\n",
    "    url=result.xpath('@href').get()\n",
    "    title=result.xpath('./span[@class=\"suchergebnis-titel\"]/text()').get()\n",
    "    is_german=result.xpath('./span[@class=\"suchergebnis-wannwo\"]/abbr[@title=\"Deutschland\"]')\n",
    "    release_year=None\n",
    "    if is_german:\n",
    "        pass\n",
    "    print(result.xpath('./span[@class=\"suchergebnis-wannwo\"]/text()').extract())\n"
   ],
   "metadata": {
    "collapsed": false,
    "pycharm": {
     "name": "#%%\n"
    }
   }
  }
 ],
 "metadata": {
  "kernelspec": {
   "name": "movie-scrapper",
   "language": "python",
   "display_name": "movie-scrapper"
  },
  "language_info": {
   "codemirror_mode": {
    "name": "ipython",
    "version": 3
   },
   "file_extension": ".py",
   "mimetype": "text/x-python",
   "name": "python",
   "nbconvert_exporter": "python",
   "pygments_lexer": "ipython3",
   "version": "3.8.3"
  }
 },
 "nbformat": 4,
 "nbformat_minor": 4
}