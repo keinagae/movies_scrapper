{
 "cells": [
  {
   "cell_type": "code",
   "execution_count": 1,
   "metadata": {},
   "outputs": [],
   "source": [
    "import scrapy\n",
    "from scrapy.utils.response import open_in_browser\n",
    "import requests\n",
    "from scrapy.http import TextResponse,XmlResponse,HtmlResponse\n",
    "import re"
   ]
  },
  {
   "cell_type": "code",
   "execution_count": 25,
   "metadata": {},
   "outputs": [],
   "source": [
    "data=[\n",
    "    {\n",
    "        \"id\": \"channel\",\n",
    "        \"settings\": [],\n",
    "        \"value\": \"season\",\n",
    "    },\n",
    "    {\n",
    "        \"id\": \"searchTerm\",\n",
    "        \"settings\": [],\n",
    "        \"value\": \"Kabarettgipfel\",\n",
    "    },\n",
    "    {\n",
    "        \"id\": \"shootingStatus\",\n",
    "        \"settings\": \"OR\",\n",
    "        \"value\": [],\n",
    "    },\n",
    "    {\n",
    "        \"id\": \"movieType\",\n",
    "        \"settings\": \"OR\",\n",
    "        \"value\": [],\n",
    "    },\n",
    "    {\n",
    "        \"id\": \"productionCountry\",\n",
    "        \"settings\": \"OR\",\n",
    "        \"value\": [],\n",
    "    },\n",
    "    {\n",
    "        \"id\": \"region\",\n",
    "        \"settings\": \"OR\",\n",
    "        \"value\": [],\n",
    "    },\n",
    "    {\n",
    "        \"id\": \"numberOfResults\",\n",
    "        \"settings\": [],\n",
    "        \"value\": \"\",\n",
    "    },\n",
    "    {\n",
    "        \"id\": \"pageSize\",\n",
    "        \"settings\": [],\n",
    "        \"value\": \"50\",\n",
    "    },\n",
    "    {\n",
    "        \"id\": \"sortOrder\",\n",
    "        \"settings\": [],\n",
    "        \"value\": \"score\",\n",
    "    },\n",
    "    {\n",
    "        \"id\": \"pagination\",\n",
    "        \"settings\": [],\n",
    "        \"value\": 1,\n",
    "    },\n",
    "    {\n",
    "        \"id\": \"displayStyle\",\n",
    "        \"settings\": [],\n",
    "        \"value\": \"card\",\n",
    "    }\n",
    "]"
   ]
  },
  {
   "cell_type": "code",
   "execution_count": 26,
   "metadata": {},
   "outputs": [
    {
     "data": {
      "text/plain": [
       "[{'id': 'channel', 'settings': [], 'value': 'season'},\n",
       " {'id': 'searchTerm', 'settings': [], 'value': 'Kabarettgipfel'},\n",
       " {'id': 'shootingStatus', 'settings': 'OR', 'value': []},\n",
       " {'id': 'movieType', 'settings': 'OR', 'value': []},\n",
       " {'id': 'productionCountry', 'settings': 'OR', 'value': []},\n",
       " {'id': 'region', 'settings': 'OR', 'value': []},\n",
       " {'id': 'numberOfResults', 'settings': [], 'value': ''},\n",
       " {'id': 'pageSize', 'settings': [], 'value': '50'},\n",
       " {'id': 'sortOrder', 'settings': [], 'value': 'score'},\n",
       " {'id': 'pagination', 'settings': [], 'value': 1},\n",
       " {'id': 'displayStyle', 'settings': [], 'value': 'card'}]"
      ]
     },
     "execution_count": 26,
     "metadata": {},
     "output_type": "execute_result"
    }
   ],
   "source": [
    "data"
   ]
  },
  {
   "cell_type": "code",
   "execution_count": 27,
   "metadata": {},
   "outputs": [],
   "source": [
    "res = requests.post('https://www.crew-united.com/en/SearchApi/search.asp',json=data)"
   ]
  },
  {
   "cell_type": "code",
   "execution_count": 28,
   "metadata": {},
   "outputs": [
    {
     "data": {
      "text/plain": [
       "<Response [200]>"
      ]
     },
     "execution_count": 28,
     "metadata": {},
     "output_type": "execute_result"
    }
   ],
   "source": [
    "res"
   ]
  },
  {
   "cell_type": "code",
   "execution_count": 29,
   "metadata": {},
   "outputs": [],
   "source": [
    "xmlResponse = XmlResponse(res.url, body=res.text, encoding='utf-8')"
   ]
  },
  {
   "cell_type": "code",
   "execution_count": 7,
   "metadata": {},
   "outputs": [
    {
     "ename": "NameError",
     "evalue": "name 'response' is not defined",
     "output_type": "error",
     "traceback": [
      "\u001b[1;31m---------------------------------------------------------------------------\u001b[0m",
      "\u001b[1;31mNameError\u001b[0m                                 Traceback (most recent call last)",
      "\u001b[1;32m<ipython-input-7-ab0153f39f33>\u001b[0m in \u001b[0;36m<module>\u001b[1;34m\u001b[0m\n\u001b[1;32m----> 1\u001b[1;33m \u001b[0mresponse\u001b[0m\u001b[1;33m\u001b[0m\u001b[1;33m\u001b[0m\u001b[0m\n\u001b[0m",
      "\u001b[1;31mNameError\u001b[0m: name 'response' is not defined"
     ]
    }
   ],
   "source": [
    "response"
   ]
  },
  {
   "cell_type": "code",
   "execution_count": 8,
   "metadata": {},
   "outputs": [
    {
     "ename": "NameError",
     "evalue": "name 'response' is not defined",
     "output_type": "error",
     "traceback": [
      "\u001b[1;31m---------------------------------------------------------------------------\u001b[0m",
      "\u001b[1;31mNameError\u001b[0m                                 Traceback (most recent call last)",
      "\u001b[1;32m<ipython-input-8-a82017bbc101>\u001b[0m in \u001b[0;36m<module>\u001b[1;34m\u001b[0m\n\u001b[1;32m----> 1\u001b[1;33m \u001b[0mopen_in_browser\u001b[0m\u001b[1;33m(\u001b[0m\u001b[0mresponse\u001b[0m\u001b[1;33m)\u001b[0m\u001b[1;33m\u001b[0m\u001b[1;33m\u001b[0m\u001b[0m\n\u001b[0m",
      "\u001b[1;31mNameError\u001b[0m: name 'response' is not defined"
     ]
    }
   ],
   "source": [
    "open_in_browser(response)"
   ]
  },
  {
   "cell_type": "code",
   "execution_count": 30,
   "metadata": {},
   "outputs": [],
   "source": [
    "html_string=xmlResponse.xpath(\"//searchResultRenderedContent/text()\")[0].get()"
   ]
  },
  {
   "cell_type": "code",
   "execution_count": 31,
   "metadata": {},
   "outputs": [],
   "source": [
    "response=HtmlResponse(res.url, body=html_string, encoding='utf-8')"
   ]
  },
  {
   "cell_type": "code",
   "execution_count": 32,
   "metadata": {},
   "outputs": [
    {
     "data": {
      "text/plain": [
       "50"
      ]
     },
     "execution_count": 32,
     "metadata": {},
     "output_type": "execute_result"
    }
   ],
   "source": [
    "len(response.xpath(\".//li/div[@class='cu-ui-card-card opt-style-project js-cu-filter-result-element']\"))"
   ]
  },
  {
   "cell_type": "code",
   "execution_count": 33,
   "metadata": {},
   "outputs": [],
   "source": [
    "shows=response.xpath(\".//li/div[@class='cu-ui-card-card opt-style-project js-cu-filter-result-element']//div[1]/span/a/parent::span/parent::div/parent::div\")"
   ]
  },
  {
   "cell_type": "code",
   "execution_count": 34,
   "metadata": {},
   "outputs": [
    {
     "data": {
      "text/plain": [
       "47"
      ]
     },
     "execution_count": 34,
     "metadata": {},
     "output_type": "execute_result"
    }
   ],
   "source": [
    "len(shows)"
   ]
  },
  {
   "cell_type": "code",
   "execution_count": 35,
   "metadata": {},
   "outputs": [],
   "source": [
    "show=shows[0]"
   ]
  },
  {
   "cell_type": "code",
   "execution_count": 36,
   "metadata": {},
   "outputs": [
    {
     "data": {
      "text/plain": [
       "[<Selector xpath='./text()' data='Kabarettgipfel (2017)'>]"
      ]
     },
     "execution_count": 36,
     "metadata": {},
     "output_type": "execute_result"
    }
   ],
   "source": [
    "show.xpath(\"./div/span/a\")[0].xpath(\"./text()\")"
   ]
  },
  {
   "cell_type": "code",
   "execution_count": 37,
   "metadata": {},
   "outputs": [
    {
     "name": "stdout",
     "output_type": "stream",
     "text": [
      "['e&a film GmbH']\n",
      "['Viktor Nilsson Produktion [de]']\n",
      "['TH Nürnberg Georg Simon Ohm [de]']\n",
      "['Anderthalb Film- und Fernsehproduktion GmbH', 'IFBBW Institut für Bildbewegung GmbH & Co. KG']\n",
      "['BR Bayerischer Rundfunk [de]']\n",
      "['Mr. Bob Films GmbH [de]']\n",
      "['Claus Stoermer Produktion [de]']\n",
      "['Filmunique Medienproduktion GmbH']\n",
      "['ServusTV Fernsehgesellschaft m.b.H [at]']\n",
      "['MDR - Mitteldeutscher Rundfunk [de]']\n",
      "['Kanu Film [de]']\n",
      "['Caterina Woj Filmproduktion [de]']\n",
      "['Nemada Film Produktion']\n",
      "['schawa tv GmbH']\n",
      "['The Metafiction Cabaret [de]']\n",
      "['Bubbles Film GmbH']\n",
      "['NAP - Filmworx KG [at]', 'Newactingproject']\n",
      "['Kabuki Media [fr]']\n",
      "['Ella Panther Filmworks [de]']\n",
      "['Henrietta Langholz Produktion']\n",
      "['The Metafiction Cabaret [de]']\n",
      "['Fiction Films GmbH']\n",
      "['Zero Film GmbH [de]']\n",
      "['First Take Schauspielakademie [de]']\n",
      "['Markus Kaatsch Produktion']\n",
      "['ZDF - Zweites Deutsches Fernsehen [de]']\n",
      "['Indeed! Agentur für Markeninszenierung']\n",
      "['CFF   Christoph Felder Filmproduktion']\n",
      "['Zero Film GmbH [de]']\n",
      "['Franziska Endres Produktion [de]']\n",
      "['Lampenfieber Film, Jerome Keller [ch]']\n",
      "['Sternenberg Films']\n",
      "['The Filmcatcher [fr]']\n",
      "['Embassy of Dreams Filmproduktion [de]']\n",
      "['BR Bayerischer Rundfunk [de]']\n",
      "['Hochschule Mainz (formerly FH Fachhochschule Mainz)']\n",
      "['Cult Film GmbH [at]', 'Daniel Zuta Filmproduktion']\n",
      "['Deutsche Film- und Fernsehakademie Berlin (DFFB)']\n",
      "['FoxDevil Films GmbH']\n",
      "['WTS MixedMedia Netzwerk für Medienproduktion']\n",
      "['Augsburger Puppenkiste [de]']\n",
      "['BR Bayerischer Rundfunk [de]']\n",
      "['Schokolade Filmproduktion [de]']\n",
      "['BR Bayerischer Rundfunk [de]']\n",
      "['Telefilm Saar GmbH [de]']\n",
      "['Snap Film AG [ch]']\n",
      "['Neverest GmbH & Co. KG [de]']\n"
     ]
    }
   ],
   "source": [
    "for show in shows:\n",
    "    show_info={}\n",
    "    heading=show.xpath(\"./div/span/a\")[0].xpath(\"./text()\").get()\n",
    "    title=re.sub(r\"\\([0-9]{4}\\)|\\([0-9]{4}-[0-9]{4}\\)\",'',heading).strip()\n",
    "    year=re.findall(r\"\\([0-9]{4}\\)\",heading)\n",
    "    if year:\n",
    "        year=year[0].replace(\"(\",\"\").replace(\")\",\"\")\n",
    "    else:\n",
    "        year=\"\"\n",
    "    duration=re.findall(r\"\\([0-9]{4}-[0-9]{4}\\)\",heading)\n",
    "    if duration:\n",
    "        duration=duration[0].replace(\"(\",\"\").replace(\")\",\"\").split(\"-\")\n",
    "    show_info['title']=title\n",
    "    show_info['year']=year\n",
    "    show_info['duration']=duration\n",
    "    productions=show.xpath(\"./div//table[contains(@class,'opt-key-value')]//tr/th[text()='Production']/parent::tr/td/span/a/text()\").extract()\n",
    "    show_info['productions']=productions\n",
    "    print(productions)"
   ]
  },
  {
   "cell_type": "code",
   "execution_count": 39,
   "metadata": {},
   "outputs": [
    {
     "name": "stdout",
     "output_type": "stream",
     "text": [
      "[]\n",
      "['Germany']\n",
      "[]\n",
      "['Germany']\n",
      "['Germany']\n",
      "[]\n",
      "['Germany']\n",
      "[]\n",
      "[]\n",
      "['Germany']\n",
      "[]\n",
      "[]\n",
      "[]\n",
      "['Germany']\n",
      "['Germany']\n",
      "['Germany']\n",
      "[]\n",
      "[]\n",
      "['Germany']\n",
      "['Germany']\n",
      "['Germany']\n",
      "['Germany']\n",
      "[]\n",
      "['Germany']\n",
      "[]\n",
      "[]\n",
      "[]\n",
      "['Germany']\n",
      "[]\n",
      "['Germany']\n",
      "[]\n",
      "['Germany']\n",
      "[]\n",
      "['Germany']\n",
      "['Germany']\n",
      "[]\n",
      "[]\n",
      "[]\n",
      "['Germany']\n",
      "['Germany']\n",
      "['Germany']\n",
      "['Germany']\n",
      "['Germany']\n",
      "['Germany']\n",
      "[]\n",
      "[]\n",
      "[]\n",
      "[{'title': 'Kabarettgipfel', 'crew_united_url': '/en/Kabarettgipfel__266598.html', 'year': '2017', 'duration': ['2018'], 'productions': ['e&a film GmbH']}]\n",
      "{'title': 'Kabarettgipfel', 'crew_united_url': '/en/Kabarettgipfel__266598.html', 'year': '2017', 'duration': ['2018'], 'productions': ['e&a film GmbH']}\n"
     ]
    }
   ],
   "source": [
    "project={\n",
    "    \"title\":\"Kabarettgipfel\",\n",
    "    \"produktion_jahr\":\"2011\"\n",
    "}\n",
    "raw_shows = response.xpath(\n",
    "                \".//li/div[@class='cu-ui-card-card opt-style-project js-cu-filter-result-element']//div[1]/span/a/parent::span/parent::div/parent::div\")\n",
    "shows = []\n",
    "for show in raw_shows:\n",
    "    show_info = {}\n",
    "    heading = show.xpath(\"./div/span/a\")[0].xpath(\"./text()\").get()\n",
    "    countries=show.xpath(\"./div/div//ul[@class='opt-pipe']/li[contains(text(),'Germany') or contains(text(),'DE')]/text()\").extract()\n",
    "    url=show.xpath(\"./div/span/a\")[0].xpath(\"./@href\").get()\n",
    "    title = re.sub(r\"\\([0-9]{4}\\)|\\([0-9]{4}-[0-9]{4}\\)\", '', heading).strip()\n",
    "    year = re.findall(r\"\\([0-9]{4}\\)\", heading)\n",
    "    if year:\n",
    "        year = year[0].replace(\"(\", \"\").replace(\")\", \"\")\n",
    "    else:\n",
    "        year = \"\"\n",
    "        duration = re.findall(r\"\\([0-9]{4}-[0-9]{4}\\)\", heading)\n",
    "    if duration:\n",
    "        duration = duration[0].replace(\"(\", \"\").replace(\")\", \"\").split(\"-\")\n",
    "        show_info['title'] = title\n",
    "        show_info['crew_united_url']=url\n",
    "        show_info['year'] = year\n",
    "        show_info['duration'] = duration\n",
    "        productions = show.xpath(\n",
    "                    \"./div//table[contains(@class,'opt-key-value')]//tr/th[text()='Production']/parent::tr/td/span/a/text()\").extract()\n",
    "        show_info['productions'] = productions\n",
    "        shows.append(show_info)\n",
    "# print(shows)\n",
    "relavent_shows = list(filter(lambda show: show['title'].lower() == project['title'].lower(), shows))\n",
    "print(relavent_shows)\n",
    "year_similar = list(filter(lambda show: show['year'].lower() == project['produktion_jahr'].lower(), relavent_shows))\n",
    "found_project={}\n",
    "if year_similar:\n",
    "    found_project=year_similar[0]\n",
    "else:\n",
    "    if len(relavent_shows)==1:\n",
    "        found_project=relavent_shows[0]\n",
    "print(found_project)"
   ]
  },
  {
   "cell_type": "code",
   "execution_count": 73,
   "metadata": {},
   "outputs": [],
   "source": [
    "# if found_project:\n",
    "#     requests.get('https://www.crew-united.com'+found_project['crew_united_url'],json=data)\n",
    "res = requests.get('https://www.crew-united.com/en/Ellas-Baby__222017.html',json=data)"
   ]
  },
  {
   "cell_type": "code",
   "execution_count": 74,
   "metadata": {},
   "outputs": [
    {
     "data": {
      "text/plain": [
       "<Response [200]>"
      ]
     },
     "execution_count": 74,
     "metadata": {},
     "output_type": "execute_result"
    }
   ],
   "source": [
    "res"
   ]
  },
  {
   "cell_type": "code",
   "execution_count": null,
   "metadata": {},
   "outputs": [],
   "source": []
  },
  {
   "cell_type": "code",
   "execution_count": 75,
   "metadata": {},
   "outputs": [],
   "source": [
    "response=HtmlResponse(res.url, body=res.text, encoding='utf-8')"
   ]
  },
  {
   "cell_type": "code",
   "execution_count": 76,
   "metadata": {},
   "outputs": [
    {
     "data": {
      "text/plain": [
       "True"
      ]
     },
     "execution_count": 76,
     "metadata": {},
     "output_type": "execute_result"
    }
   ],
   "source": [
    "open_in_browser(response)"
   ]
  },
  {
   "cell_type": "code",
   "execution_count": 77,
   "metadata": {},
   "outputs": [],
   "source": [
    "broadcast=response.xpath(\".//div[@id='releases-tv']/table//tr/td[text()='First showing']/parent::tr/td[not(text()='First showing')]\")"
   ]
  },
  {
   "cell_type": "code",
   "execution_count": 78,
   "metadata": {},
   "outputs": [
    {
     "data": {
      "text/plain": [
       "'Germany'"
      ]
     },
     "execution_count": 78,
     "metadata": {},
     "output_type": "execute_result"
    }
   ],
   "source": [
    "broadcast[0].xpath(\"./text()\").get()"
   ]
  },
  {
   "cell_type": "code",
   "execution_count": 79,
   "metadata": {},
   "outputs": [
    {
     "data": {
      "text/plain": [
       "'ARD [de]'"
      ]
     },
     "execution_count": 79,
     "metadata": {},
     "output_type": "execute_result"
    }
   ],
   "source": [
    "broadcast[1].xpath(\"./text()\").get()"
   ]
  },
  {
   "cell_type": "code",
   "execution_count": 80,
   "metadata": {},
   "outputs": [
    {
     "data": {
      "text/plain": [
       "'Friday, 13/10/2017'"
      ]
     },
     "execution_count": 80,
     "metadata": {},
     "output_type": "execute_result"
    }
   ],
   "source": [
    "broadcast[2].xpath(\"./text()\").get()"
   ]
  },
  {
   "cell_type": "code",
   "execution_count": 81,
   "metadata": {},
   "outputs": [],
   "source": [
    "productions=response.xpath(\".//div[@id='production']/table/tbody/tr/td[2][not(contains(text(),'Koproduzent'))]/parent::tr/td[1]/span/a/text()\").extract()"
   ]
  },
  {
   "cell_type": "code",
   "execution_count": 82,
   "metadata": {},
   "outputs": [
    {
     "data": {
      "text/plain": [
       "['Südstern Film GmbH & Co. KG [de]', 'TV60Filmproduktion GmbH']"
      ]
     },
     "execution_count": 82,
     "metadata": {},
     "output_type": "execute_result"
    }
   ],
   "source": [
    "productions"
   ]
  },
  {
   "cell_type": "code",
   "execution_count": 83,
   "metadata": {},
   "outputs": [],
   "source": [
    "koproduzent_productions=response.xpath(\".//div[@id='production']/table/tbody/tr/td[2][contains(text(),'Koproduzent')]/parent::tr/td[1]/span/a/text()\").extract()"
   ]
  },
  {
   "cell_type": "code",
   "execution_count": 84,
   "metadata": {},
   "outputs": [
    {
     "data": {
      "text/plain": [
       "[]"
      ]
     },
     "execution_count": 84,
     "metadata": {},
     "output_type": "execute_result"
    }
   ],
   "source": [
    "koproduzent_productions"
   ]
  },
  {
   "cell_type": "code",
   "execution_count": null,
   "metadata": {},
   "outputs": [],
   "source": []
  }
 ],
 "metadata": {
  "kernelspec": {
   "display_name": "movie-scrapper",
   "language": "python",
   "name": "movie-scrapper"
  },
  "language_info": {
   "codemirror_mode": {
    "name": "ipython",
    "version": 3
   },
   "file_extension": ".py",
   "mimetype": "text/x-python",
   "name": "python",
   "nbconvert_exporter": "python",
   "pygments_lexer": "ipython3",
   "version": "3.8.3"
  }
 },
 "nbformat": 4,
 "nbformat_minor": 4
}
