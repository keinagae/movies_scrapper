{
 "cells": [
  {
   "cell_type": "code",
   "execution_count": 1,
   "metadata": {},
   "outputs": [],
   "source": [
    "from lxml import etree\n",
    "from pathlib import Path\n",
    "from pymongo import MongoClient"
   ]
  },
  {
   "cell_type": "code",
   "execution_count": 2,
   "metadata": {},
   "outputs": [],
   "source": [
    "db=MongoClient()"
   ]
  },
  {
   "cell_type": "code",
   "execution_count": 3,
   "metadata": {},
   "outputs": [],
   "source": [
    "stations=db.stations_non_germany_2020"
   ]
  },
  {
   "cell_type": "code",
   "execution_count": 4,
   "metadata": {},
   "outputs": [],
   "source": [
    "stations.create_collection(\"logs\")\n",
    "logs_doc=stations.logs"
   ]
  },
  {
   "cell_type": "code",
   "execution_count": 5,
   "metadata": {},
   "outputs": [
    {
     "data": {
      "text/plain": [
       "[{'name': 'logs',\n",
       "  'type': 'collection',\n",
       "  'options': {},\n",
       "  'info': {'readOnly': False,\n",
       "   'uuid': UUID('cac0133d-b653-4ef1-9f7b-99af047b17e8')},\n",
       "  'idIndex': {'v': 2, 'key': {'_id': 1}, 'name': '_id_'}}]"
      ]
     },
     "execution_count": 5,
     "metadata": {},
     "output_type": "execute_result"
    }
   ],
   "source": [
    "sorted(list(stations.list_collections()),key=lambda station:station['name'])"
   ]
  },
  {
   "cell_type": "code",
   "execution_count": 6,
   "metadata": {},
   "outputs": [],
   "source": [
    "def get_safe_first(values):\n",
    "    if values:\n",
    "        return values[0]\n",
    "    else:\n",
    "        return \"\""
   ]
  },
  {
   "cell_type": "code",
   "execution_count": 7,
   "metadata": {},
   "outputs": [],
   "source": [
    "path = Path(\"./shows\")"
   ]
  },
  {
   "cell_type": "code",
   "execution_count": 8,
   "metadata": {},
   "outputs": [],
   "source": [
    "files=[file for file in path.iterdir() if not file.is_dir()]"
   ]
  },
  {
   "cell_type": "code",
   "execution_count": 9,
   "metadata": {},
   "outputs": [
    {
     "name": "stdout",
     "output_type": "stream",
     "text": [
      "collection 2020_3SAT created\n",
      "collection 2020_ALPHA created\n",
      "collection 2020_ARD created\n",
      "collection 2020_ARTE created\n",
      "collection 2020_BFS created\n",
      "collection 2020_DMAX created\n",
      "collection 2020_DW-tv created\n",
      "collection 2020_EinsFestival created\n",
      "collection 2020_HF created\n",
      "collection 2020_K1 created\n",
      "collection 2020_K1DOKU created\n",
      "collection 2020_KKA created\n",
      "collection 2020_MDR created\n",
      "collection 2020_N24DOKU created\n",
      "collection 2020_N3_Hamburg created\n",
      "collection 2020_N3_Radio_Bremen created\n",
      "collection 2020_NTV created\n",
      "collection 2020_PHOENIX created\n",
      "collection 2020_PRO7 created\n",
      "collection 2020_ProSiebenFun created\n",
      "collection 2020_ProSieben_MAXX created\n",
      "collection 2020_rbb_Berlin created\n",
      "collection 2020_RTL created\n",
      "collection 2020_RTL2 created\n",
      "collection 2020_RTLplus created\n",
      "collection 2020_RTLS created\n",
      "collection 2020_RTL_Nitro created\n",
      "collection 2020_SAT1 created\n",
      "collection 2020_Sat1Gold created\n",
      "collection 2020_sixx created\n",
      "collection 2020_Sport1 created\n",
      "collection 2020_SWR_BW created\n",
      "collection 2020_SWR_SR created\n",
      "collection 2020_tagesschau24 created\n",
      "collection 2020_Tele_5 created\n",
      "collection 2020_VOX created\n",
      "collection 2020_WDR created\n",
      "collection 2020_WELT created\n",
      "collection 2020_ZDF created\n",
      "collection 2020_ZDFneo created\n",
      "collection 2020_ZDF_Info created\n"
     ]
    }
   ],
   "source": [
    "for file in files:\n",
    "    if file.stem not in stations.list_collection_names():\n",
    "        stations.create_collection(file.stem)\n",
    "        print(f\"collection {file.stem} created\")"
   ]
  },
  {
   "cell_type": "code",
   "execution_count": 10,
   "metadata": {},
   "outputs": [],
   "source": [
    "parser = etree.XMLParser(recover=True)"
   ]
  },
  {
   "cell_type": "code",
   "execution_count": 11,
   "metadata": {},
   "outputs": [],
   "source": [
    "def save_show(show,station,extras={}):\n",
    "    params={\n",
    "            'show_id':show.xpath(\"./sendung//stammdaten//metadaten/id/text()\")[0],\n",
    "            'title':show.xpath(\"./sendung//stammdaten//programm/titel/text()\")[0],\n",
    "    }\n",
    "    values={**params,**extras}\n",
    "    values['subtitle']=get_safe_first(show.xpath(\"./sendung//stammdaten//programm/nebentitel/text()\")) \n",
    "    values['originaltitel']=get_safe_first(show.xpath(\"./sendung//stammdaten//programm/originaltitel/text()\")) \n",
    "    values['sender_genre']=get_safe_first(show.xpath(\"./sendung//stammdaten//programm/sender_genre/text()\"))\n",
    "    values['dmb_haupt_genre']=get_safe_first(show.xpath(\"./sendung//stammdaten//programm/dmb_genre/dmb_haupt_genre/text()\"))\n",
    "    values['dmb_neben_genre']=get_safe_first(show.xpath(\"./sendung//stammdaten//programm/dmb_genre/dmb_neben_genre/text()\"))\n",
    "    values['produktion_land']=get_safe_first(show.xpath(\"./sendung//stammdaten//programm/produktion/land/text()\"))\n",
    "    values['produktion_jahr']=get_safe_first(show.xpath(\"./sendung//stammdaten//programm/produktion/jahr/text()\"))\n",
    "    values['hinweissender']=get_safe_first(show.xpath(\"./sendung//stammdaten//programm/hinweissender/text()\"))\n",
    "    values['titel_ergaenzung']=get_safe_first(show.xpath(\"./sendung//stammdaten//programm/titel_ergaenzung/text()\"))\n",
    "    values['hinweissender']=get_safe_first(show.xpath(\"./sendung//stammdaten//programm/hinweissender/text()\"))\n",
    "    values['ausstrahlung_start']=get_safe_first(show.xpath(\"./sendung//stammdaten//ausstrahlung/start/text()\"))\n",
    "    values['ausstrahlung_start']=get_safe_first(show.xpath(\"./sendung//stammdaten//ausstrahlung/wh-text/text()\"))\n",
    "    values['ausstrahlung_sender_start']=get_safe_first(show.xpath(\"./sendung//stammdaten//ausstrahlung/sender_start/text()\"))\n",
    "    values['ausstrahlung_stop']=get_safe_first(show.xpath(\"./sendung//stammdaten//ausstrahlung/stop/text()\"))\n",
    "    values['ausstrahlung_dauer']=get_safe_first(show.xpath(\"./sendung//stammdaten//ausstrahlung/dauer/text()\"))\n",
    "    values['nettolaenge']=get_safe_first(show.xpath(\"./sendung//stammdaten//ausstrahlung/nettolaenge/text()\"))\n",
    "    values['ausstrahlung_sender']=get_safe_first(show.xpath(\"./sendung//stammdaten//ausstrahlung/sender/text()\"))\n",
    "    values['produzierender_sender']=get_safe_first(show.xpath(\"./sendung//stammdaten//ausstrahlung/produzierender_sender/text()\"))\n",
    "    values['dmbInfoset_ProduktionsLaender_ProduktionsLand']=get_safe_first(show.xpath(\"./sendung//stammdaten//dmbInfoset/ProduktionsLaender/ProduktionsLand/text()\"))\n",
    "    values['dmbFolgetitel']=get_safe_first(show.xpath(\"./sendung//stammdaten//dmbInfoset/dmbFolgetitel/text()\"))\n",
    "    values['dmbStaffel']=get_safe_first(show.xpath(\"./sendung//stammdaten//dmbInfoset/dmbStaffel/text()\"))\n",
    "    values['dmbFolge']=get_safe_first(show.xpath(\"./sendung//stammdaten//dmbInfoset/dmbFolge/text()\"))\n",
    "    values['dmbProduktionsJahr']=get_safe_first(show.xpath(\"./sendung//stammdaten//dmbInfoset/dmbProduktionsJahr/text()\"))\n",
    "    values['dmbOriginalFolgetitel']=get_safe_first(show.xpath(\"./sendung//stammdaten//dmbInfoset/dmbOriginalFolgetitel/text()\"))\n",
    "    values['staff']=show.xpath(\"./sendung//stammdaten//dmbInfoset/StaffList/Staff/Person/Fullname/text()\")\n",
    "    produktionsLand_nodes=show.xpath(\"./sendung//stammdaten//dmbInfoset/ProduktionsLaender/ProduktionsLand\")\n",
    "    produktionsLand=[{\"land\":node.text,'kfz':node.attrib.get(\"dmbstd:kfz\"),'alpha3':node.attrib.get(\"dmbstd:alpha3\") } for node in produktionsLand_nodes]\n",
    "    values['produktionsLand']=produktionsLand\n",
    "    staff_nodes=show.xpath(\"./sendung//stammdaten//dmbInfoset/StaffList/Staff\")\n",
    "    staff=[{\"staff_id\":node.xpath(\"./Person\")[0].attrib.get(\"dmbstd:id\"),\"staff_function\":node.attrib.get(\"dmbstd:Function\"),\"fullname\":node.xpath(\"./Person/Fullname\")[0].text} for node in staff_nodes]\n",
    "    values['staff']=staff\n",
    "    values['crew_united_url']=\"\"\n",
    "    values['crew_united_productions']=[]\n",
    "    values['crew_united_koproduzent_productions']=[]\n",
    "    values['cu_first_showing_country']=\"\"\n",
    "    values['cu_first_showing_station']=\"\"\n",
    "    values['cu_first_showing_date_time']=\"\"\n",
    "    values['imdb_id']=\"\"\n",
    "    values['imdb_link']=\"\"\n",
    "    values['imdb_distributors']=[]\n",
    "    values['imdb_productions']=[]\n",
    "    values['imdb_flag']=\"\"\n",
    "    values['cu_flag']=\"\"\n",
    "    values[\"fernsehserien_url\"]=\"\"\n",
    "    values[ \"fernsehserien_title\"]=\"\"\n",
    "    values[\"fernsehserien_episode_title\"]=\"\"\n",
    "    values[\"fernsehserien_serie_number\"]=\"\"\n",
    "    values[\"fernsehserien_duration\"]=\"\"\n",
    "    values[\"fernsehserien_production_companies\"]=[]\n",
    "    values[\"fernsehserien_released_at\"]=[]\n",
    "    \n",
    "    \n",
    "    \n",
    "    station.replace_one(params,values,upsert=True)"
   ]
  },
  {
   "cell_type": "code",
   "execution_count": 12,
   "metadata": {},
   "outputs": [
    {
     "name": "stdout",
     "output_type": "stream",
     "text": [
      "2020_3SAT total shows 13612\n",
      "2020_ALPHA total shows 16189\n",
      "2020_ARD total shows 13235\n",
      "2020_ARTE total shows 11431\n",
      "2020_BFS total shows 13447\n",
      "2020_DMAX total shows 10806\n",
      "2020_DW-tv total shows 23889\n",
      "2020_EinsFestival total shows 10892\n",
      "2020_HF total shows 13648\n",
      "2020_K1 total shows 9139\n",
      "2020_K1DOKU total shows 12063\n",
      "2020_KKA total shows 23703\n",
      "2020_MDR total shows 15042\n",
      "2020_N24DOKU total shows 10315\n",
      "2020_N3_Hamburg total shows 13862\n",
      "2020_N3_Radio_Bremen total shows 14726\n",
      "2020_NTV total shows 22611\n",
      "2020_PHOENIX total shows 11859\n",
      "2020_PRO7 total shows 14579\n",
      "2020_ProSiebenFun total shows 16964\n",
      "2020_ProSieben_MAXX total shows 15816\n",
      "2020_rbb_Berlin total shows 13550\n",
      "2020_RTL total shows 10022\n",
      "2020_RTL2 total shows 7180\n",
      "2020_RTLplus total shows 11386\n",
      "2020_RTLS total shows 14564\n",
      "2020_RTL_Nitro total shows 11604\n",
      "2020_SAT1 total shows 8444\n",
      "2020_Sat1Gold total shows 12241\n",
      "2020_sixx total shows 11814\n",
      "2020_Sport1 total shows 13671\n",
      "2020_SWR_BW total shows 13816\n",
      "2020_SWR_SR total shows 14450\n",
      "2020_tagesschau24 total shows 14499\n",
      "2020_Tele_5 total shows 7837\n",
      "2020_VOX total shows 9365\n",
      "2020_WDR total shows 13205\n",
      "2020_WELT total shows 19836\n",
      "2020_ZDF total shows 13405\n",
      "2020_ZDFneo total shows 10342\n",
      "2020_ZDF_Info total shows 12321\n"
     ]
    }
   ],
   "source": [
    "for file in files:\n",
    "    if file.stem not in stations.list_collection_names():\n",
    "        stations.create_collection(file.stem)\n",
    "    station=stations[file.stem]\n",
    "    tree = etree.parse(str(file),parser=parser)\n",
    "    shows=tree.xpath(\".//daten/einfuegen\")\n",
    "    for show in shows:\n",
    "        save_show(show,station)\n",
    "#     empty_shows=[]\n",
    "#     shows=tree.xpath(\".//daten/einfuegen\")\n",
    "#     for show in shows:\n",
    "#         production_land=show.xpath(\".//stammdaten//produktion/land/text()\")\n",
    "#         production_land_1=show.xpath(\".//stammdaten//dmbInfoset//dmbProduktionsLand/text()\")\n",
    "#         production_land_2=show.xpath(\".//stammdaten//dmbInfoset//ProduktionsLaender/ProduktionsLand/text()\")\n",
    "#         if all([not production_land,not production_land_1,not production_land_2]) :\n",
    "#             empty_shows.append(show)\n",
    "#     for show in empty_shows:\n",
    "#         save_show(show,empties,{\"station\":file.stem})\n",
    "    print(f\"{file.stem} total shows {len(shows)}\")"
   ]
  },
  {
   "cell_type": "code",
   "execution_count": 13,
   "metadata": {},
   "outputs": [],
   "source": [
    "de_stations=db.stations_new"
   ]
  },
  {
   "cell_type": "code",
   "execution_count": 14,
   "metadata": {},
   "outputs": [],
   "source": [
    "station_names=[station['name'] for station in\n",
    "                        sorted(list(stations.list_collections()), key=lambda station: station['name']) if\n",
    "                        station['name'] not in ['logs', 'empties']]"
   ]
  },
  {
   "cell_type": "code",
   "execution_count": 15,
   "metadata": {},
   "outputs": [
    {
     "data": {
      "text/plain": [
       "['2020_3SAT',\n",
       " '2020_ALPHA',\n",
       " '2020_ARD',\n",
       " '2020_ARTE',\n",
       " '2020_BFS',\n",
       " '2020_DMAX',\n",
       " '2020_DW-tv',\n",
       " '2020_EinsFestival',\n",
       " '2020_HF',\n",
       " '2020_K1',\n",
       " '2020_K1DOKU',\n",
       " '2020_KKA',\n",
       " '2020_MDR',\n",
       " '2020_N24DOKU',\n",
       " '2020_N3_Hamburg',\n",
       " '2020_N3_Radio_Bremen',\n",
       " '2020_NTV',\n",
       " '2020_PHOENIX',\n",
       " '2020_PRO7',\n",
       " '2020_ProSiebenFun',\n",
       " '2020_ProSieben_MAXX',\n",
       " '2020_RTL',\n",
       " '2020_RTL2',\n",
       " '2020_RTLS',\n",
       " '2020_RTL_Nitro',\n",
       " '2020_RTLplus',\n",
       " '2020_SAT1',\n",
       " '2020_SWR_BW',\n",
       " '2020_SWR_SR',\n",
       " '2020_Sat1Gold',\n",
       " '2020_Sport1',\n",
       " '2020_Tele_5',\n",
       " '2020_VOX',\n",
       " '2020_WDR',\n",
       " '2020_WELT',\n",
       " '2020_ZDF',\n",
       " '2020_ZDF_Info',\n",
       " '2020_ZDFneo',\n",
       " '2020_rbb_Berlin',\n",
       " '2020_sixx',\n",
       " '2020_tagesschau24']"
      ]
     },
     "execution_count": 15,
     "metadata": {},
     "output_type": "execute_result"
    }
   ],
   "source": [
    "station_names"
   ]
  },
  {
   "cell_type": "code",
   "execution_count": 41,
   "metadata": {},
   "outputs": [],
   "source": [
    "main_station=stations['2019_3SAT']\n",
    "scrapped_station=de_stations['2019_3SAT']"
   ]
  },
  {
   "cell_type": "code",
   "execution_count": 42,
   "metadata": {},
   "outputs": [
    {
     "name": "stderr",
     "output_type": "stream",
     "text": [
      "<ipython-input-42-743aad3d2ec3>:1: DeprecationWarning: count is deprecated. Use Collection.count_documents instead.\n",
      "  main_station.find({}).count()\n"
     ]
    },
    {
     "data": {
      "text/plain": [
       "0"
      ]
     },
     "execution_count": 42,
     "metadata": {},
     "output_type": "execute_result"
    }
   ],
   "source": [
    "main_station.find({}).count()"
   ]
  },
  {
   "cell_type": "code",
   "execution_count": 43,
   "metadata": {},
   "outputs": [
    {
     "name": "stderr",
     "output_type": "stream",
     "text": [
      "<ipython-input-43-88099302f91b>:1: DeprecationWarning: count is deprecated. Use Collection.count_documents instead.\n",
      "  scrapped_station.find({}).count()\n"
     ]
    },
    {
     "data": {
      "text/plain": [
       "0"
      ]
     },
     "execution_count": 43,
     "metadata": {},
     "output_type": "execute_result"
    }
   ],
   "source": [
    "scrapped_station.find({}).count()"
   ]
  },
  {
   "cell_type": "code",
   "execution_count": 16,
   "metadata": {},
   "outputs": [
    {
     "name": "stderr",
     "output_type": "stream",
     "text": [
      "<ipython-input-16-141b4d0c13b6>:4: DeprecationWarning: count is deprecated. Use Collection.count_documents instead.\n",
      "  print(f\" total stations {main_station.find({}).count()} importable {scrapped_station.find({}).count()} in {station_name}\")\n"
     ]
    },
    {
     "name": "stdout",
     "output_type": "stream",
     "text": [
      " total stations 13612 importable 6560 in 2020_3SAT\n",
      "importing\n",
      "imported 6560\n",
      " total stations 16189 importable 9860 in 2020_ALPHA\n",
      "importing\n",
      "imported 9860\n",
      " total stations 13235 importable 10965 in 2020_ARD\n",
      "importing\n",
      "imported 10965\n",
      " total stations 11431 importable 4960 in 2020_ARTE\n",
      "importing\n",
      "imported 4960\n",
      " total stations 13447 importable 12642 in 2020_BFS\n",
      "importing\n",
      "imported 12642\n",
      " total stations 10806 importable 3430 in 2020_DMAX\n",
      "importing\n",
      "imported 3430\n",
      " total stations 23889 importable 3340 in 2020_DW-tv\n",
      "importing\n",
      "imported 3340\n",
      " total stations 10892 importable 5811 in 2020_EinsFestival\n",
      "importing\n",
      "imported 5811\n",
      " total stations 13648 importable 6247 in 2020_HF\n",
      "importing\n",
      "imported 6247\n",
      " total stations 9139 importable 3020 in 2020_K1\n",
      "importing\n",
      "imported 3020\n",
      " total stations 12063 importable 1034 in 2020_K1DOKU\n",
      "importing\n",
      "imported 1034\n",
      " total stations 23703 importable 13589 in 2020_KKA\n",
      "importing\n",
      "imported 13589\n",
      " total stations 15042 importable 6102 in 2020_MDR\n",
      "importing\n",
      "imported 6102\n",
      " total stations 10315 importable 1013 in 2020_N24DOKU\n",
      "importing\n",
      "imported 1013\n",
      " total stations 13862 importable 5494 in 2020_N3_Hamburg\n",
      "importing\n",
      "imported 5494\n",
      " total stations 14726 importable 5493 in 2020_N3_Radio_Bremen\n",
      "importing\n",
      "imported 5493\n",
      " total stations 22611 importable 12548 in 2020_NTV\n",
      "importing\n",
      "imported 12548\n",
      " total stations 11859 importable 5285 in 2020_PHOENIX\n",
      "importing\n",
      "imported 5285\n",
      " total stations 14579 importable 2738 in 2020_PRO7\n",
      "importing\n",
      "imported 2738\n",
      " total stations 16964 importable 1553 in 2020_ProSiebenFun\n",
      "importing\n",
      "imported 1553\n",
      " total stations 15816 importable 1096 in 2020_ProSieben_MAXX\n",
      "importing\n",
      "imported 1096\n",
      " total stations 10022 importable 9227 in 2020_RTL\n",
      "importing\n",
      "imported 9227\n",
      " total stations 7180 importable 4690 in 2020_RTL2\n",
      "importing\n",
      "imported 4690\n",
      " total stations 14564 importable 1306 in 2020_RTLS\n",
      "importing\n",
      "imported 1306\n",
      " total stations 11604 importable 1898 in 2020_RTL_Nitro\n",
      "importing\n",
      "imported 1898\n",
      " total stations 11386 importable 10768 in 2020_RTLplus\n",
      "importing\n",
      "imported 10768\n",
      " total stations 8444 importable 7051 in 2020_SAT1\n",
      "importing\n",
      "imported 7051\n",
      " total stations 13816 importable 5970 in 2020_SWR_BW\n",
      "importing\n",
      "imported 5970\n",
      " total stations 14450 importable 7117 in 2020_SWR_SR\n",
      "importing\n",
      "imported 7117\n",
      " total stations 12241 importable 6370 in 2020_Sat1Gold\n",
      "importing\n",
      "imported 6370\n",
      " total stations 13671 importable 553 in 2020_Sport1\n",
      "importing\n",
      "imported 553\n",
      " total stations 7837 importable 471 in 2020_Tele_5\n",
      "importing\n",
      "imported 471\n",
      " total stations 9365 importable 6062 in 2020_VOX\n",
      "importing\n",
      "imported 6062\n",
      " total stations 13205 importable 4901 in 2020_WDR\n",
      "importing\n",
      "imported 4901\n",
      " total stations 19836 importable 13041 in 2020_WELT\n",
      "importing\n",
      "imported 13041\n",
      " total stations 13405 importable 9589 in 2020_ZDF\n",
      "importing\n",
      "imported 9589\n",
      " total stations 12321 importable 7280 in 2020_ZDF_Info\n",
      "importing\n",
      "imported 7280\n",
      " total stations 10342 importable 6160 in 2020_ZDFneo\n",
      "importing\n",
      "imported 6160\n",
      " total stations 13550 importable 5681 in 2020_rbb_Berlin\n",
      "importing\n",
      "imported 5681\n",
      " total stations 11814 importable 3207 in 2020_sixx\n",
      "importing\n",
      "imported 3207\n",
      " total stations 14499 importable 7880 in 2020_tagesschau24\n",
      "importing\n",
      "imported 7880\n"
     ]
    }
   ],
   "source": [
    "for station_name in station_names:\n",
    "    main_station=stations[station_name]\n",
    "    scrapped_station=de_stations[station_name]\n",
    "    print(f\" total stations {main_station.find({}).count()} importable {scrapped_station.find({}).count()} in {station_name}\")\n",
    "    imported=0\n",
    "    print('importing')\n",
    "    for index, show in enumerate( scrapped_station.find({})) :\n",
    "        del show['_id']\n",
    "        found_show = main_station.find_one_and_update(\n",
    "            {\"show_id\" : show['show_id']},\n",
    "            {\n",
    "                \"$set\":show\n",
    "            }\n",
    "        )\n",
    "        if found_show:\n",
    "            imported+=1\n",
    "    print(f\"imported {imported}\")"
   ]
  },
  {
   "cell_type": "code",
   "execution_count": 37,
   "metadata": {},
   "outputs": [
    {
     "name": "stdout",
     "output_type": "stream",
     "text": [
      "{'_id': ObjectId('600ea27dc8e8fd3a7ca50c70'), 'show_id': ';1020463513', 'title': 'Lederstrumpf', 'subtitle': 'Der Wildtöter', 'originaltitel': '', 'sender_genre': 'Abenteuerfilm\\nFernsehfilm', 'dmb_haupt_genre': 'TV-Film', 'dmb_neben_genre': 'TV-Abenteuerfilm', 'produktion_land': 'Deutschland / Frankreich', 'produktion_jahr': '1969', 'hinweissender': '', 'titel_ergaenzung': 'Der Wildtöter', 'ausstrahlung_start': '', 'ausstrahlung_sender_start': '2019-01-04T13:00:00', 'ausstrahlung_stop': '2019-01-04T14:30:00', 'ausstrahlung_dauer': '90', 'nettolaenge': '88', 'ausstrahlung_sender': '3SAT', 'produzierender_sender': '', 'dmbInfoset_ProduktionsLaender_ProduktionsLand': 'Deutschland', 'dmbFolgetitel': '', 'dmbStaffel': '', 'dmbFolge': '', 'dmbProduktionsJahr': '1969', 'dmbOriginalFolgetitel': '', 'staff': [], 'produktionsLand': [{'land': 'Deutschland', 'kfz': 'D', 'alpha3': 'DEU'}, {'land': 'Frankreich', 'kfz': 'F', 'alpha3': 'FRA'}], 'crew_united_url': '', 'crew_united_productions': [], 'crew_united_koproduzent_productions': [], 'cu_first_showing_country': '', 'cu_first_showing_station': '', 'cu_first_showing_date_time': '', 'imdb_id': '', 'imdb_link': '', 'imdb_distributors': [], 'imdb_productions': [], 'imdb_flag': '', 'cu_flag': ''}\n",
      "{'_id': ObjectId('600ea27dc8e8fd3a7ca50c72'), 'show_id': ';1020463516', 'title': 'Lederstrumpf', 'subtitle': 'Der letzte Mohikaner', 'originaltitel': '', 'sender_genre': 'Abenteuerfilm\\nFernsehfilm', 'dmb_haupt_genre': 'TV-Film', 'dmb_neben_genre': 'TV-Abenteuerfilm', 'produktion_land': 'Deutschland / Frankreich', 'produktion_jahr': '1969', 'hinweissender': '', 'titel_ergaenzung': 'Der letzte Mohikaner', 'ausstrahlung_start': '', 'ausstrahlung_sender_start': '2019-01-04T14:30:00', 'ausstrahlung_stop': '2019-01-04T15:50:00', 'ausstrahlung_dauer': '80', 'nettolaenge': '80', 'ausstrahlung_sender': '3SAT', 'produzierender_sender': '', 'dmbInfoset_ProduktionsLaender_ProduktionsLand': 'Frankreich', 'dmbFolgetitel': '', 'dmbStaffel': '', 'dmbFolge': '', 'dmbProduktionsJahr': '1969', 'dmbOriginalFolgetitel': '', 'staff': [], 'produktionsLand': [{'land': 'Frankreich', 'kfz': 'F', 'alpha3': 'FRA'}, {'land': 'Deutschland', 'kfz': 'D', 'alpha3': 'DEU'}], 'crew_united_url': '', 'crew_united_productions': [], 'crew_united_koproduzent_productions': [], 'cu_first_showing_country': '', 'cu_first_showing_station': '', 'cu_first_showing_date_time': '', 'imdb_id': '', 'imdb_link': '', 'imdb_distributors': [], 'imdb_productions': [], 'imdb_flag': '', 'cu_flag': ''}\n",
      "{'_id': ObjectId('600ea27dc8e8fd3a7ca50c74'), 'show_id': ';1020463518', 'title': 'Lederstrumpf', 'subtitle': 'Das Fort am Biberfluss', 'originaltitel': '', 'sender_genre': 'Abenteuerfilm\\nFernsehfilm', 'dmb_haupt_genre': 'TV-Film', 'dmb_neben_genre': 'TV-Abenteuerfilm', 'produktion_land': 'Deutschland / Frankreich', 'produktion_jahr': '1969', 'hinweissender': '', 'titel_ergaenzung': 'Das Fort am Biberfluss', 'ausstrahlung_start': '', 'ausstrahlung_sender_start': '2019-01-04T15:50:00', 'ausstrahlung_stop': '2019-01-04T17:25:00', 'ausstrahlung_dauer': '95', 'nettolaenge': '93', 'ausstrahlung_sender': '3SAT', 'produzierender_sender': '', 'dmbInfoset_ProduktionsLaender_ProduktionsLand': 'Frankreich', 'dmbFolgetitel': '', 'dmbStaffel': '', 'dmbFolge': '', 'dmbProduktionsJahr': '1969', 'dmbOriginalFolgetitel': '', 'staff': [], 'produktionsLand': [{'land': 'Frankreich', 'kfz': 'F', 'alpha3': 'FRA'}, {'land': 'Deutschland', 'kfz': 'D', 'alpha3': 'DEU'}], 'crew_united_url': '', 'crew_united_productions': [], 'crew_united_koproduzent_productions': [], 'cu_first_showing_country': '', 'cu_first_showing_station': '', 'cu_first_showing_date_time': '', 'imdb_id': '', 'imdb_link': '', 'imdb_distributors': [], 'imdb_productions': [], 'imdb_flag': '', 'cu_flag': ''}\n",
      "{'_id': ObjectId('600ea27dc8e8fd3a7ca50c76'), 'show_id': ';1020463522', 'title': 'Lederstrumpf', 'subtitle': 'Die Prärie', 'originaltitel': '', 'sender_genre': 'Abenteuerfilm\\nFernsehfilm', 'dmb_haupt_genre': 'TV-Film', 'dmb_neben_genre': 'TV-Abenteuerfilm', 'produktion_land': 'Deutschland / Frankreich', 'produktion_jahr': '1969', 'hinweissender': '', 'titel_ergaenzung': 'Die Prärie', 'ausstrahlung_start': '', 'ausstrahlung_sender_start': '2019-01-04T17:25:00', 'ausstrahlung_stop': '2019-01-04T19:00:00', 'ausstrahlung_dauer': '95', 'nettolaenge': '95', 'ausstrahlung_sender': '3SAT', 'produzierender_sender': '', 'dmbInfoset_ProduktionsLaender_ProduktionsLand': 'Deutschland', 'dmbFolgetitel': '', 'dmbStaffel': '', 'dmbFolge': '', 'dmbProduktionsJahr': '1969', 'dmbOriginalFolgetitel': '', 'staff': [], 'produktionsLand': [{'land': 'Deutschland', 'kfz': 'D', 'alpha3': 'DEU'}, {'land': 'Frankreich', 'kfz': 'F', 'alpha3': 'FRA'}], 'crew_united_url': '', 'crew_united_productions': [], 'crew_united_koproduzent_productions': [], 'cu_first_showing_country': '', 'cu_first_showing_station': '', 'cu_first_showing_date_time': '', 'imdb_id': '', 'imdb_link': '', 'imdb_distributors': [], 'imdb_productions': [], 'imdb_flag': '', 'cu_flag': ''}\n",
      "{'_id': ObjectId('600ea27dc8e8fd3a7ca50c86'), 'show_id': ';1020463542', 'title': 'Der Kommissar', 'subtitle': 'Toter Herr im Regen', 'originaltitel': '', 'sender_genre': 'Kriminalreihe\\nSerie', 'dmb_haupt_genre': 'Serie', 'dmb_neben_genre': 'Krimiserie', 'produktion_land': 'Deutschland', 'produktion_jahr': '1969', 'hinweissender': '', 'titel_ergaenzung': '', 'ausstrahlung_start': '', 'ausstrahlung_sender_start': '2019-01-04T22:25:00', 'ausstrahlung_stop': '2019-01-04T23:25:00', 'ausstrahlung_dauer': '60', 'nettolaenge': '', 'ausstrahlung_sender': '3SAT', 'produzierender_sender': '', 'dmbInfoset_ProduktionsLaender_ProduktionsLand': 'Deutschland', 'dmbFolgetitel': 'Toter Herr im Regen', 'dmbStaffel': '', 'dmbFolge': '', 'dmbProduktionsJahr': '1969', 'dmbOriginalFolgetitel': '', 'staff': [], 'produktionsLand': [{'land': 'Deutschland', 'kfz': 'D', 'alpha3': 'DEU'}], 'crew_united_url': '/de/Der-Kommissar__176420.html', 'crew_united_productions': ['DR Danmarks Radio TV [dk]'], 'crew_united_koproduzent_productions': ['ZDF - Zweites Deutsches Fernsehen [de]'], 'cu_first_showing_country': '', 'cu_first_showing_station': '', 'cu_first_showing_date_time': '', 'imdb_id': 'tt0394731', 'imdb_link': 'https://www.imdb.com/title/tt0394731/', 'imdb_distributors': [], 'imdb_productions': [], 'imdb_flag': 'episode', 'cu_flag': 'year'}\n",
      "{'_id': ObjectId('600ea27dc8e8fd3a7ca50c88'), 'show_id': ';1020463545', 'title': 'Der Kommissar', 'subtitle': 'Schrei vor dem Fenster', 'originaltitel': '', 'sender_genre': 'Kriminalreihe\\nSerie', 'dmb_haupt_genre': 'Serie', 'dmb_neben_genre': 'Krimiserie', 'produktion_land': 'Deutschland', 'produktion_jahr': '1969', 'hinweissender': '', 'titel_ergaenzung': '', 'ausstrahlung_start': '', 'ausstrahlung_sender_start': '2019-01-04T23:25:00', 'ausstrahlung_stop': '2019-01-05T00:25:00', 'ausstrahlung_dauer': '60', 'nettolaenge': '', 'ausstrahlung_sender': '3SAT', 'produzierender_sender': '', 'dmbInfoset_ProduktionsLaender_ProduktionsLand': 'Deutschland', 'dmbFolgetitel': 'Schrei vor dem Fenster', 'dmbStaffel': '', 'dmbFolge': '', 'dmbProduktionsJahr': '1969 / 1976', 'dmbOriginalFolgetitel': '', 'staff': [], 'produktionsLand': [{'land': 'Deutschland', 'kfz': 'D', 'alpha3': 'DEU'}], 'crew_united_url': '/de/Der-Kommissar__176420.html', 'crew_united_productions': ['DR Danmarks Radio TV [dk]'], 'crew_united_koproduzent_productions': ['ZDF - Zweites Deutsches Fernsehen [de]'], 'cu_first_showing_country': '', 'cu_first_showing_station': '', 'cu_first_showing_date_time': '', 'imdb_id': 'tt0394706', 'imdb_link': 'https://www.imdb.com/title/tt0394706/', 'imdb_distributors': [], 'imdb_productions': [], 'imdb_flag': 'episode', 'cu_flag': 'year'}\n",
      "{'_id': ObjectId('600ea27dc8e8fd3a7ca50c8a'), 'show_id': ';1020463548', 'title': 'Der Kommissar', 'subtitle': 'Tod einer Zeugin', 'originaltitel': '', 'sender_genre': 'Kriminalreihe\\nSerie', 'dmb_haupt_genre': 'Serie', 'dmb_neben_genre': 'Krimiserie', 'produktion_land': 'Deutschland', 'produktion_jahr': '1969', 'hinweissender': '', 'titel_ergaenzung': '', 'ausstrahlung_start': '', 'ausstrahlung_sender_start': '2019-01-04T00:25:00', 'ausstrahlung_stop': '2019-01-05T01:20:00', 'ausstrahlung_dauer': '55', 'nettolaenge': '', 'ausstrahlung_sender': '3SAT', 'produzierender_sender': '', 'dmbInfoset_ProduktionsLaender_ProduktionsLand': 'Deutschland', 'dmbFolgetitel': 'Tod einer Zeugin', 'dmbStaffel': '', 'dmbFolge': '', 'dmbProduktionsJahr': '1969 / 1976', 'dmbOriginalFolgetitel': '', 'staff': [], 'produktionsLand': [{'land': 'Deutschland', 'kfz': 'D', 'alpha3': 'DEU'}], 'crew_united_url': '/de/Der-Kommissar__176420.html', 'crew_united_productions': ['DR Danmarks Radio TV [dk]'], 'crew_united_koproduzent_productions': ['ZDF - Zweites Deutsches Fernsehen [de]'], 'cu_first_showing_country': '', 'cu_first_showing_station': '', 'cu_first_showing_date_time': '', 'imdb_id': 'tt0394718', 'imdb_link': 'https://www.imdb.com/title/tt0394718/', 'imdb_distributors': [], 'imdb_productions': [], 'imdb_flag': 'episode', 'cu_flag': 'year'}\n",
      "{'_id': ObjectId('600ea27dc8e8fd3a7ca50c8c'), 'show_id': ';1020463551', 'title': 'Der Kommissar', 'subtitle': 'Eine Kugel für den Kommissar', 'originaltitel': '', 'sender_genre': 'Kriminalreihe\\nSerie', 'dmb_haupt_genre': 'Serie', 'dmb_neben_genre': 'Krimiserie', 'produktion_land': 'Deutschland', 'produktion_jahr': '1970', 'hinweissender': '', 'titel_ergaenzung': '', 'ausstrahlung_start': '', 'ausstrahlung_sender_start': '2019-01-04T01:20:00', 'ausstrahlung_stop': '2019-01-05T02:25:00', 'ausstrahlung_dauer': '65', 'nettolaenge': '', 'ausstrahlung_sender': '3SAT', 'produzierender_sender': '', 'dmbInfoset_ProduktionsLaender_ProduktionsLand': 'Deutschland', 'dmbFolgetitel': 'Eine Kugel für den Kommissar', 'dmbStaffel': '', 'dmbFolge': '', 'dmbProduktionsJahr': '1969 / 1976', 'dmbOriginalFolgetitel': '', 'staff': [], 'produktionsLand': [{'land': 'Deutschland', 'kfz': 'D', 'alpha3': 'DEU'}], 'crew_united_url': '/de/Der-Kommissar__176165.html', 'crew_united_productions': ['DR Danmarks Radio TV [dk]'], 'crew_united_koproduzent_productions': ['ZDF - Zweites Deutsches Fernsehen [de]'], 'cu_first_showing_country': '', 'cu_first_showing_station': '', 'cu_first_showing_date_time': '', 'imdb_id': 'tt0394678', 'imdb_link': 'https://www.imdb.com/title/tt0394678/', 'imdb_distributors': [], 'imdb_productions': [], 'imdb_flag': 'episode', 'cu_flag': 'year'}\n",
      "{'_id': ObjectId('600ea27dc8e8fd3a7ca50c8e'), 'show_id': ';1020463554', 'title': 'Der Kommissar', 'subtitle': 'Anonymer Anruf', 'originaltitel': '', 'sender_genre': 'Kriminalreihe\\nSerie', 'dmb_haupt_genre': 'Serie', 'dmb_neben_genre': 'Krimiserie', 'produktion_land': 'Deutschland', 'produktion_jahr': '1970', 'hinweissender': '', 'titel_ergaenzung': '', 'ausstrahlung_start': '', 'ausstrahlung_sender_start': '2019-01-04T02:25:00', 'ausstrahlung_stop': '2019-01-05T03:25:00', 'ausstrahlung_dauer': '60', 'nettolaenge': '', 'ausstrahlung_sender': '3SAT', 'produzierender_sender': '', 'dmbInfoset_ProduktionsLaender_ProduktionsLand': 'Deutschland', 'dmbFolgetitel': 'Anonymer Anruf', 'dmbStaffel': '', 'dmbFolge': '', 'dmbProduktionsJahr': '1969 / 1976', 'dmbOriginalFolgetitel': '', 'staff': [], 'produktionsLand': [{'land': 'Deutschland', 'kfz': 'D', 'alpha3': 'DEU'}], 'crew_united_url': '/de/Der-Kommissar__176165.html', 'crew_united_productions': ['DR Danmarks Radio TV [dk]'], 'crew_united_koproduzent_productions': ['ZDF - Zweites Deutsches Fernsehen [de]'], 'cu_first_showing_country': '', 'cu_first_showing_station': '', 'cu_first_showing_date_time': '', 'imdb_id': 'tt0394650', 'imdb_link': 'https://www.imdb.com/title/tt0394650/', 'imdb_distributors': [], 'imdb_productions': ['Neue Münchner Fernsehproduktion (NMF)', 'Zweites Deutsches Fernsehen (ZDF)'], 'imdb_flag': 'episode', 'cu_flag': 'year'}\n",
      "{'_id': ObjectId('600ea27dc8e8fd3a7ca50c90'), 'show_id': ';1020463557', 'title': 'Der Kommissar', 'subtitle': 'Drei Tote reisen nach Wien', 'originaltitel': '', 'sender_genre': 'Kriminalreihe\\nSerie', 'dmb_haupt_genre': 'Serie', 'dmb_neben_genre': 'Krimiserie', 'produktion_land': 'Deutschland', 'produktion_jahr': '1970', 'hinweissender': '', 'titel_ergaenzung': '', 'ausstrahlung_start': '', 'ausstrahlung_sender_start': '2019-01-04T03:25:00', 'ausstrahlung_stop': '2019-01-05T04:25:00', 'ausstrahlung_dauer': '60', 'nettolaenge': '', 'ausstrahlung_sender': '3SAT', 'produzierender_sender': '', 'dmbInfoset_ProduktionsLaender_ProduktionsLand': 'Deutschland', 'dmbFolgetitel': 'Drei Tote reisen nach Wien', 'dmbStaffel': '', 'dmbFolge': '', 'dmbProduktionsJahr': '1969 / 1976', 'dmbOriginalFolgetitel': '', 'staff': [], 'produktionsLand': [{'land': 'Deutschland', 'kfz': 'D', 'alpha3': 'DEU'}], 'crew_united_url': '/de/Der-Kommissar__176165.html', 'crew_united_productions': ['DR Danmarks Radio TV [dk]'], 'crew_united_koproduzent_productions': ['ZDF - Zweites Deutsches Fernsehen [de]'], 'cu_first_showing_country': '', 'cu_first_showing_station': '', 'cu_first_showing_date_time': '', 'imdb_id': 'tt0394658', 'imdb_link': 'https://www.imdb.com/title/tt0394658/', 'imdb_distributors': ['Zweites Deutsches Fernsehen (ZDF)', 'Österreichischer Rundfunk (ORF)'], 'imdb_productions': ['Zweites Deutsches Fernsehen (ZDF)'], 'imdb_flag': 'episode', 'cu_flag': 'year'}\n",
      "{'_id': ObjectId('600ea27dc8e8fd3a7ca50cac'), 'show_id': ';1021516443', 'title': 'Die Schatzinsel', 'subtitle': 'Der alte Freibeuter', 'originaltitel': '', 'sender_genre': 'Fernsehfilm', 'dmb_haupt_genre': 'Serie', 'dmb_neben_genre': 'Abenteuerserie', 'produktion_land': 'Deutschland', 'produktion_jahr': '1966', 'hinweissender': '', 'titel_ergaenzung': '', 'ausstrahlung_start': '', 'ausstrahlung_sender_start': '2019-01-05T13:10:00', 'ausstrahlung_stop': '2019-01-05T14:35:00', 'ausstrahlung_dauer': '85', 'nettolaenge': '81', 'ausstrahlung_sender': '3SAT', 'produzierender_sender': '', 'dmbInfoset_ProduktionsLaender_ProduktionsLand': 'Deutschland', 'dmbFolgetitel': 'Der alte Freibeuter', 'dmbStaffel': '-', 'dmbFolge': '1', 'dmbProduktionsJahr': '1966', 'dmbOriginalFolgetitel': '', 'staff': [], 'produktionsLand': [{'land': 'Deutschland', 'kfz': 'D', 'alpha3': 'DEU'}, {'land': 'Frankreich', 'kfz': 'F', 'alpha3': 'FRA'}], 'crew_united_url': '/de/Die-Schatzinsel__50299.html', 'crew_united_productions': ['Prassel & Stampf GmbH'], 'crew_united_koproduzent_productions': [], 'cu_first_showing_country': '', 'cu_first_showing_station': '', 'cu_first_showing_date_time': '', 'imdb_id': 'tt1332382', 'imdb_link': 'https://www.imdb.com/title/tt1332382/', 'imdb_distributors': ['Zweites Deutsches Fernsehen (ZDF)'], 'imdb_productions': [], 'imdb_flag': 'episode', 'cu_flag': 'title'}\n",
      "{'_id': ObjectId('600ea27dc8e8fd3a7ca50cae'), 'show_id': ';1021516445', 'title': 'Die Schatzinsel', 'subtitle': 'Der Schiffskoch', 'originaltitel': '', 'sender_genre': 'Fernsehfilm', 'dmb_haupt_genre': 'Serie', 'dmb_neben_genre': 'Abenteuerserie', 'produktion_land': 'Deutschland', 'produktion_jahr': '1966', 'hinweissender': '', 'titel_ergaenzung': '', 'ausstrahlung_start': '', 'ausstrahlung_sender_start': '2019-01-05T14:35:00', 'ausstrahlung_stop': '2019-01-05T16:00:00', 'ausstrahlung_dauer': '85', 'nettolaenge': '89', 'ausstrahlung_sender': '3SAT', 'produzierender_sender': '', 'dmbInfoset_ProduktionsLaender_ProduktionsLand': 'Deutschland', 'dmbFolgetitel': 'Der Schiffskoch', 'dmbStaffel': '-', 'dmbFolge': '2', 'dmbProduktionsJahr': '1966', 'dmbOriginalFolgetitel': '', 'staff': [], 'produktionsLand': [{'land': 'Deutschland', 'kfz': 'D', 'alpha3': 'DEU'}, {'land': 'Frankreich', 'kfz': 'F', 'alpha3': 'FRA'}], 'crew_united_url': '/de/Die-Schatzinsel__50299.html', 'crew_united_productions': ['Prassel & Stampf GmbH'], 'crew_united_koproduzent_productions': [], 'cu_first_showing_country': '', 'cu_first_showing_station': '', 'cu_first_showing_date_time': '', 'imdb_id': 'tt1392707', 'imdb_link': 'https://www.imdb.com/title/tt1392707/', 'imdb_distributors': ['Zweites Deutsches Fernsehen (ZDF)'], 'imdb_productions': [], 'imdb_flag': 'episode', 'cu_flag': 'title'}\n"
     ]
    }
   ],
   "source": []
  },
  {
   "cell_type": "code",
   "execution_count": null,
   "metadata": {},
   "outputs": [],
   "source": []
  },
  {
   "cell_type": "code",
   "execution_count": null,
   "metadata": {},
   "outputs": [],
   "source": []
  }
 ],
 "metadata": {
  "kernelspec": {
   "display_name": "movie-scrapper",
   "language": "python",
   "name": "movie-scrapper"
  },
  "language_info": {
   "codemirror_mode": {
    "name": "ipython",
    "version": 3
   },
   "file_extension": ".py",
   "mimetype": "text/x-python",
   "name": "python",
   "nbconvert_exporter": "python",
   "pygments_lexer": "ipython3",
   "version": "3.8.3"
  }
 },
 "nbformat": 4,
 "nbformat_minor": 4
}
