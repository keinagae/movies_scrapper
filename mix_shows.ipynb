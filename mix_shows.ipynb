{
 "cells": [
  {
   "cell_type": "code",
   "execution_count": 1,
   "metadata": {},
   "outputs": [],
   "source": [
    "from lxml import etree\n",
    "from pathlib import Path\n",
    "from pymongo import MongoClient"
   ]
  },
  {
   "cell_type": "code",
   "execution_count": 2,
   "metadata": {},
   "outputs": [],
   "source": [
    "db=MongoClient()"
   ]
  },
  {
   "cell_type": "code",
   "execution_count": 3,
   "metadata": {},
   "outputs": [],
   "source": [
    "stations=db.stations_non_germany"
   ]
  },
  {
   "cell_type": "code",
   "execution_count": 4,
   "metadata": {},
   "outputs": [],
   "source": [
    "stations.create_collection(\"logs\")\n",
    "logs_doc=stations.logs"
   ]
  },
  {
   "cell_type": "code",
   "execution_count": 5,
   "metadata": {},
   "outputs": [
    {
     "data": {
      "text/plain": [
       "[{'name': 'logs',\n",
       "  'type': 'collection',\n",
       "  'options': {},\n",
       "  'info': {'readOnly': False,\n",
       "   'uuid': UUID('92b10fe0-51fd-48e6-a808-d1f1ed6157d4')},\n",
       "  'idIndex': {'v': 2, 'key': {'_id': 1}, 'name': '_id_'}}]"
      ]
     },
     "execution_count": 5,
     "metadata": {},
     "output_type": "execute_result"
    }
   ],
   "source": [
    "sorted(list(stations.list_collections()),key=lambda station:station['name'])"
   ]
  },
  {
   "cell_type": "code",
   "execution_count": 6,
   "metadata": {},
   "outputs": [],
   "source": [
    "def get_safe_first(values):\n",
    "    if values:\n",
    "        return values[0]\n",
    "    else:\n",
    "        return \"\""
   ]
  },
  {
   "cell_type": "code",
   "execution_count": 7,
   "metadata": {},
   "outputs": [],
   "source": [
    "path = Path(\"./Archivdaten_2019\")"
   ]
  },
  {
   "cell_type": "code",
   "execution_count": 8,
   "metadata": {},
   "outputs": [],
   "source": [
    "files=[file for file in path.iterdir() if not file.is_dir()]"
   ]
  },
  {
   "cell_type": "code",
   "execution_count": 9,
   "metadata": {},
   "outputs": [
    {
     "name": "stdout",
     "output_type": "stream",
     "text": [
      "collection 2019_3SAT created\n",
      "collection 2019_ARD created\n",
      "collection 2019_ARTE created\n",
      "collection 2019_BFS created\n",
      "collection 2019_DMAX created\n",
      "collection 2019_DW-tv created\n",
      "collection 2019_EinsFestival created\n",
      "collection 2019_HF created\n",
      "collection 2019_K1 created\n",
      "collection 2019_K1DOKU created\n",
      "collection 2019_KKA created\n",
      "collection 2019_MDR created\n",
      "collection 2019_N24DOKU created\n",
      "collection 2019_N3_Hamburg created\n",
      "collection 2019_N3_Radio_Bremen created\n",
      "collection 2019_NTV created\n",
      "collection 2019_PHOENIX created\n",
      "collection 2019_PRO7 created\n",
      "collection 2019_ProSiebenFun created\n",
      "collection 2019_ProSieben_MAXX created\n",
      "collection 2019_rbb_Berlin created\n",
      "collection 2019_RTL created\n",
      "collection 2019_RTL2 created\n",
      "collection 2019_RTLplus created\n",
      "collection 2019_RTLS created\n",
      "collection 2019_RTL_Nitro created\n",
      "collection 2019_SAT1 created\n",
      "collection 2019_Sat1Gold created\n",
      "collection 2019_sixx created\n",
      "collection 2019_Sport1 created\n",
      "collection 2019_SWR_BW created\n",
      "collection 2019_SWR_SR created\n",
      "collection 2019_tagesschau24 created\n",
      "collection 2019_Tele_5 created\n",
      "collection 2019_VOX created\n",
      "collection 2019_WDR created\n",
      "collection 2019_WELT created\n",
      "collection 2019_ZDF created\n",
      "collection 2019_ZDFneo created\n",
      "collection 2019_ZDF_Info created\n"
     ]
    }
   ],
   "source": [
    "for file in files:\n",
    "    if file.stem not in stations.list_collection_names():\n",
    "        stations.create_collection(file.stem)\n",
    "        print(f\"collection {file.stem} created\")"
   ]
  },
  {
   "cell_type": "code",
   "execution_count": 10,
   "metadata": {},
   "outputs": [],
   "source": [
    "parser = etree.XMLParser(recover=True)"
   ]
  },
  {
   "cell_type": "code",
   "execution_count": 11,
   "metadata": {},
   "outputs": [],
   "source": [
    "def save_show(show,station,extras={}):\n",
    "    params={\n",
    "            'show_id':show.xpath(\"./sendung//stammdaten//metadaten/id/text()\")[0],\n",
    "            'title':show.xpath(\"./sendung//stammdaten//programm/titel/text()\")[0],\n",
    "    }\n",
    "    values={**params,**extras}\n",
    "    values['subtitle']=get_safe_first(show.xpath(\"./sendung//stammdaten//programm/nebentitel/text()\")) \n",
    "    values['originaltitel']=get_safe_first(show.xpath(\"./sendung//stammdaten//programm/originaltitel/text()\")) \n",
    "    values['sender_genre']=get_safe_first(show.xpath(\"./sendung//stammdaten//programm/sender_genre/text()\"))\n",
    "    values['dmb_haupt_genre']=get_safe_first(show.xpath(\"./sendung//stammdaten//programm/dmb_genre/dmb_haupt_genre/text()\"))\n",
    "    values['dmb_neben_genre']=get_safe_first(show.xpath(\"./sendung//stammdaten//programm/dmb_genre/dmb_neben_genre/text()\"))\n",
    "    values['produktion_land']=get_safe_first(show.xpath(\"./sendung//stammdaten//programm/produktion/land/text()\"))\n",
    "    values['produktion_jahr']=get_safe_first(show.xpath(\"./sendung//stammdaten//programm/produktion/jahr/text()\"))\n",
    "    values['hinweissender']=get_safe_first(show.xpath(\"./sendung//stammdaten//programm/hinweissender/text()\"))\n",
    "    values['titel_ergaenzung']=get_safe_first(show.xpath(\"./sendung//stammdaten//programm/titel_ergaenzung/text()\"))\n",
    "    values['hinweissender']=get_safe_first(show.xpath(\"./sendung//stammdaten//programm/hinweissender/text()\"))\n",
    "    values['ausstrahlung_start']=get_safe_first(show.xpath(\"./sendung//stammdaten//ausstrahlung/start/text()\"))\n",
    "    values['ausstrahlung_start']=get_safe_first(show.xpath(\"./sendung//stammdaten//ausstrahlung/wh-text/text()\"))\n",
    "    values['ausstrahlung_sender_start']=get_safe_first(show.xpath(\"./sendung//stammdaten//ausstrahlung/sender_start/text()\"))\n",
    "    values['ausstrahlung_stop']=get_safe_first(show.xpath(\"./sendung//stammdaten//ausstrahlung/stop/text()\"))\n",
    "    values['ausstrahlung_dauer']=get_safe_first(show.xpath(\"./sendung//stammdaten//ausstrahlung/dauer/text()\"))\n",
    "    values['nettolaenge']=get_safe_first(show.xpath(\"./sendung//stammdaten//ausstrahlung/nettolaenge/text()\"))\n",
    "    values['ausstrahlung_sender']=get_safe_first(show.xpath(\"./sendung//stammdaten//ausstrahlung/sender/text()\"))\n",
    "    values['produzierender_sender']=get_safe_first(show.xpath(\"./sendung//stammdaten//ausstrahlung/produzierender_sender/text()\"))\n",
    "    values['dmbInfoset_ProduktionsLaender_ProduktionsLand']=get_safe_first(show.xpath(\"./sendung//stammdaten//dmbInfoset/ProduktionsLaender/ProduktionsLand/text()\"))\n",
    "    values['dmbFolgetitel']=get_safe_first(show.xpath(\"./sendung//stammdaten//dmbInfoset/dmbFolgetitel/text()\"))\n",
    "    values['dmbStaffel']=get_safe_first(show.xpath(\"./sendung//stammdaten//dmbInfoset/dmbStaffel/text()\"))\n",
    "    values['dmbFolge']=get_safe_first(show.xpath(\"./sendung//stammdaten//dmbInfoset/dmbFolge/text()\"))\n",
    "    values['dmbProduktionsJahr']=get_safe_first(show.xpath(\"./sendung//stammdaten//dmbInfoset/dmbProduktionsJahr/text()\"))\n",
    "    values['dmbOriginalFolgetitel']=get_safe_first(show.xpath(\"./sendung//stammdaten//dmbInfoset/dmbOriginalFolgetitel/text()\"))\n",
    "    values['staff']=show.xpath(\"./sendung//stammdaten//dmbInfoset/StaffList/Staff/Person/Fullname/text()\")\n",
    "    produktionsLand_nodes=show.xpath(\"./sendung//stammdaten//dmbInfoset/ProduktionsLaender/ProduktionsLand\")\n",
    "    produktionsLand=[{\"land\":node.text,'kfz':node.attrib.get(\"dmbstd:kfz\"),'alpha3':node.attrib.get(\"dmbstd:alpha3\") } for node in produktionsLand_nodes]\n",
    "    values['produktionsLand']=produktionsLand\n",
    "    staff_nodes=show.xpath(\"./sendung//stammdaten//dmbInfoset/StaffList/Staff\")\n",
    "    staff=[{\"staff_id\":node.xpath(\"./Person\")[0].attrib.get(\"dmbstd:id\"),\"staff_function\":node.attrib.get(\"dmbstd:Function\"),\"fullname\":node.xpath(\"./Person/Fullname\")[0].text} for node in staff_nodes]\n",
    "    values['staff']=staff\n",
    "    values['crew_united_url']=\"\"\n",
    "    values['crew_united_productions']=[]\n",
    "    values['crew_united_koproduzent_productions']=[]\n",
    "    values['cu_first_showing_country']=\"\"\n",
    "    values['cu_first_showing_station']=\"\"\n",
    "    values['cu_first_showing_date_time']=\"\"\n",
    "    values['imdb_id']=\"\"\n",
    "    values['imdb_link']=\"\"\n",
    "    values['imdb_distributors']=[]\n",
    "    values['imdb_productions']=[]\n",
    "    values['imdb_flag']=\"\"\n",
    "    values['cu_flag']=\"\"\n",
    "    \n",
    "    \n",
    "    \n",
    "    station.replace_one(params,values,upsert=True)"
   ]
  },
  {
   "cell_type": "code",
   "execution_count": 12,
   "metadata": {},
   "outputs": [
    {
     "name": "stdout",
     "output_type": "stream",
     "text": [
      "2019_3SAT total shows 12532\n",
      "2019_ARD total shows 13280\n",
      "2019_ARTE total shows 11870\n",
      "2019_BFS total shows 13371\n",
      "2019_DMAX total shows 11118\n",
      "2019_DW-tv total shows 24774\n",
      "2019_EinsFestival total shows 11122\n",
      "2019_HF total shows 13431\n",
      "2019_K1 total shows 9142\n",
      "2019_K1DOKU total shows 11842\n",
      "2019_KKA total shows 23298\n",
      "2019_MDR total shows 15514\n",
      "2019_N24DOKU total shows 10481\n",
      "2019_N3_Hamburg total shows 13667\n",
      "2019_N3_Radio_Bremen total shows 14520\n",
      "2019_NTV total shows 21993\n",
      "2019_PHOENIX total shows 11517\n",
      "2019_PRO7 total shows 14616\n",
      "2019_ProSiebenFun total shows 16838\n",
      "2019_ProSieben_MAXX total shows 15903\n",
      "2019_rbb_Berlin total shows 13876\n",
      "2019_RTL total shows 10026\n",
      "2019_RTL2 total shows 7434\n",
      "2019_RTLplus total shows 11860\n",
      "2019_RTLS total shows 13940\n",
      "2019_RTL_Nitro total shows 11732\n",
      "2019_SAT1 total shows 8265\n",
      "2019_Sat1Gold total shows 12422\n",
      "2019_sixx total shows 11104\n",
      "2019_Sport1 total shows 15177\n",
      "2019_SWR_BW total shows 14432\n",
      "2019_SWR_SR total shows 14447\n",
      "2019_tagesschau24 total shows 14323\n",
      "2019_Tele_5 total shows 6792\n",
      "2019_VOX total shows 9339\n",
      "2019_WDR total shows 12805\n",
      "2019_WELT total shows 17981\n",
      "2019_ZDF total shows 13476\n",
      "2019_ZDFneo total shows 10322\n",
      "2019_ZDF_Info total shows 12446\n"
     ]
    }
   ],
   "source": [
    "for file in files:\n",
    "    if file.stem not in stations.list_collection_names():\n",
    "        stations.create_collection(file.stem)\n",
    "    station=stations[file.stem]\n",
    "    tree = etree.parse(str(file),parser=parser)\n",
    "    shows=tree.xpath(\".//daten/einfuegen\")\n",
    "    for show in shows:\n",
    "        save_show(show,station)\n",
    "#     empty_shows=[]\n",
    "#     shows=tree.xpath(\".//daten/einfuegen\")\n",
    "#     for show in shows:\n",
    "#         production_land=show.xpath(\".//stammdaten//produktion/land/text()\")\n",
    "#         production_land_1=show.xpath(\".//stammdaten//dmbInfoset//dmbProduktionsLand/text()\")\n",
    "#         production_land_2=show.xpath(\".//stammdaten//dmbInfoset//ProduktionsLaender/ProduktionsLand/text()\")\n",
    "#         if all([not production_land,not production_land_1,not production_land_2]) :\n",
    "#             empty_shows.append(show)\n",
    "#     for show in empty_shows:\n",
    "#         save_show(show,empties,{\"station\":file.stem})\n",
    "    print(f\"{file.stem} total shows {len(shows)}\")"
   ]
  },
  {
   "cell_type": "code",
   "execution_count": 13,
   "metadata": {},
   "outputs": [],
   "source": [
    "de_stations=db.stations"
   ]
  },
  {
   "cell_type": "code",
   "execution_count": 38,
   "metadata": {},
   "outputs": [],
   "source": [
    "station_names=[station['name'] for station in\n",
    "                        sorted(list(stations.list_collections()), key=lambda station: station['name']) if\n",
    "                        station['name'] not in ['logs', 'empties']]"
   ]
  },
  {
   "cell_type": "code",
   "execution_count": 39,
   "metadata": {},
   "outputs": [
    {
     "data": {
      "text/plain": [
       "['2019_3SAT',\n",
       " '2019_ARD',\n",
       " '2019_ARTE',\n",
       " '2019_BFS',\n",
       " '2019_DMAX',\n",
       " '2019_DW-tv',\n",
       " '2019_EinsFestival',\n",
       " '2019_HF',\n",
       " '2019_K1',\n",
       " '2019_K1DOKU',\n",
       " '2019_KKA',\n",
       " '2019_MDR',\n",
       " '2019_N24DOKU',\n",
       " '2019_N3_Hamburg',\n",
       " '2019_N3_Radio_Bremen',\n",
       " '2019_NTV',\n",
       " '2019_PHOENIX',\n",
       " '2019_PRO7',\n",
       " '2019_ProSiebenFun',\n",
       " '2019_ProSieben_MAXX',\n",
       " '2019_RTL',\n",
       " '2019_RTL2',\n",
       " '2019_RTLS',\n",
       " '2019_RTL_Nitro',\n",
       " '2019_RTLplus',\n",
       " '2019_SAT1',\n",
       " '2019_SWR_BW',\n",
       " '2019_SWR_SR',\n",
       " '2019_Sat1Gold',\n",
       " '2019_Sport1',\n",
       " '2019_Tele_5',\n",
       " '2019_VOX',\n",
       " '2019_WDR',\n",
       " '2019_WELT',\n",
       " '2019_ZDF',\n",
       " '2019_ZDF_Info',\n",
       " '2019_ZDFneo',\n",
       " '2019_rbb_Berlin',\n",
       " '2019_sixx',\n",
       " '2019_tagesschau24']"
      ]
     },
     "execution_count": 39,
     "metadata": {},
     "output_type": "execute_result"
    }
   ],
   "source": [
    "station_names"
   ]
  },
  {
   "cell_type": "code",
   "execution_count": 20,
   "metadata": {},
   "outputs": [],
   "source": [
    "main_station=stations['2019_3SAT']\n",
    "scrapped_station=de_stations['2019_3SAT']"
   ]
  },
  {
   "cell_type": "code",
   "execution_count": 22,
   "metadata": {},
   "outputs": [
    {
     "name": "stderr",
     "output_type": "stream",
     "text": [
      "<ipython-input-22-743aad3d2ec3>:1: DeprecationWarning: count is deprecated. Use Collection.count_documents instead.\n",
      "  main_station.find({}).count()\n"
     ]
    },
    {
     "data": {
      "text/plain": [
       "12532"
      ]
     },
     "execution_count": 22,
     "metadata": {},
     "output_type": "execute_result"
    }
   ],
   "source": [
    "main_station.find({}).count()"
   ]
  },
  {
   "cell_type": "code",
   "execution_count": 29,
   "metadata": {},
   "outputs": [
    {
     "name": "stderr",
     "output_type": "stream",
     "text": [
      "<ipython-input-29-88099302f91b>:1: DeprecationWarning: count is deprecated. Use Collection.count_documents instead.\n",
      "  scrapped_station.find({}).count()\n"
     ]
    },
    {
     "data": {
      "text/plain": [
       "6380"
      ]
     },
     "execution_count": 29,
     "metadata": {},
     "output_type": "execute_result"
    }
   ],
   "source": [
    "scrapped_station.find({}).count()"
   ]
  },
  {
   "cell_type": "code",
   "execution_count": 42,
   "metadata": {},
   "outputs": [
    {
     "name": "stderr",
     "output_type": "stream",
     "text": [
      "<ipython-input-42-6021072c29fa>:4: DeprecationWarning: count is deprecated. Use Collection.count_documents instead.\n",
      "  print(f\" total stations {main_station.find({}).count()} importable {scrapped_station.find({}).count()} in {station_name}\")\n"
     ]
    },
    {
     "name": "stdout",
     "output_type": "stream",
     "text": [
      " total stations 12532 importable 6380 in 2019_3SAT\n",
      "imported 6380\n",
      " total stations 13280 importable 10929 in 2019_ARD\n",
      "imported 10929\n",
      " total stations 11870 importable 5710 in 2019_ARTE\n",
      "imported 5710\n",
      " total stations 13371 importable 12728 in 2019_BFS\n",
      "imported 12728\n",
      " total stations 11118 importable 1979 in 2019_DMAX\n",
      "imported 1979\n",
      " total stations 24774 importable 3816 in 2019_DW-tv\n",
      "imported 3816\n",
      " total stations 11122 importable 6046 in 2019_EinsFestival\n",
      "imported 6046\n",
      " total stations 13431 importable 6233 in 2019_HF\n",
      "imported 6233\n",
      " total stations 9142 importable 2989 in 2019_K1\n",
      "imported 2989\n",
      " total stations 11842 importable 1715 in 2019_K1DOKU\n",
      "imported 1715\n",
      " total stations 23298 importable 13347 in 2019_KKA\n",
      "imported 13347\n",
      " total stations 15514 importable 5988 in 2019_MDR\n",
      "imported 5988\n",
      " total stations 10481 importable 853 in 2019_N24DOKU\n",
      "imported 853\n",
      " total stations 13667 importable 5462 in 2019_N3_Hamburg\n",
      "imported 5462\n",
      " total stations 14520 importable 5465 in 2019_N3_Radio_Bremen\n",
      "imported 5465\n",
      " total stations 21993 importable 11951 in 2019_NTV\n",
      "imported 11951\n",
      " total stations 11517 importable 5296 in 2019_PHOENIX\n",
      "imported 5296\n",
      " total stations 14616 importable 2295 in 2019_PRO7\n",
      "imported 2295\n",
      " total stations 16838 importable 1618 in 2019_ProSiebenFun\n",
      "imported 1618\n",
      " total stations 15903 importable 902 in 2019_ProSieben_MAXX\n",
      "imported 902\n",
      " total stations 10026 importable 9119 in 2019_RTL\n",
      "imported 9119\n",
      " total stations 7434 importable 4785 in 2019_RTL2\n",
      "imported 4785\n",
      " total stations 13940 importable 1016 in 2019_RTLS\n",
      "imported 1016\n",
      " total stations 11732 importable 2006 in 2019_RTL_Nitro\n",
      "imported 2006\n",
      " total stations 11860 importable 11775 in 2019_RTLplus\n",
      "imported 11775\n",
      " total stations 8265 importable 6648 in 2019_SAT1\n",
      "imported 6648\n",
      " total stations 14432 importable 6341 in 2019_SWR_BW\n",
      "imported 6341\n",
      " total stations 14447 importable 7218 in 2019_SWR_SR\n",
      "imported 7218\n",
      " total stations 12422 importable 6798 in 2019_Sat1Gold\n",
      "imported 6798\n",
      " total stations 15177 importable 413 in 2019_Sport1\n",
      "imported 413\n",
      " total stations 6792 importable 476 in 2019_Tele_5\n",
      "imported 476\n",
      " total stations 9339 importable 6959 in 2019_VOX\n",
      "imported 6959\n",
      " total stations 12805 importable 4886 in 2019_WDR\n",
      "imported 4886\n",
      " total stations 17980 importable 10203 in 2019_WELT\n",
      "imported 10203\n",
      " total stations 13476 importable 9713 in 2019_ZDF\n",
      "imported 9713\n",
      " total stations 12446 importable 7545 in 2019_ZDF_Info\n",
      "imported 7545\n",
      " total stations 10321 importable 7122 in 2019_ZDFneo\n",
      "imported 7122\n",
      " total stations 13876 importable 6085 in 2019_rbb_Berlin\n",
      "imported 6085\n",
      " total stations 11104 importable 1904 in 2019_sixx\n",
      "imported 1904\n",
      " total stations 14323 importable 8222 in 2019_tagesschau24\n",
      "imported 8222\n"
     ]
    }
   ],
   "source": [
    "for station_name in station_names:\n",
    "    main_station=stations[station_name]\n",
    "    scrapped_station=de_stations[station_name]\n",
    "    print(f\" total stations {main_station.find({}).count()} importable {scrapped_station.find({}).count()} in {station_name}\")\n",
    "    imported=0\n",
    "    print\n",
    "    for index, show in enumerate( scrapped_station.find({})) :\n",
    "        del show['_id']\n",
    "        found_show = main_station.find_one_and_update(\n",
    "            {\"show_id\" : show['show_id']},\n",
    "            {\n",
    "                \"$set\":show\n",
    "            }\n",
    "        )\n",
    "        if found_show:\n",
    "            imported+=1\n",
    "    print(f\"imported {imported}\")"
   ]
  },
  {
   "cell_type": "code",
   "execution_count": 37,
   "metadata": {},
   "outputs": [
    {
     "name": "stdout",
     "output_type": "stream",
     "text": [
      "{'_id': ObjectId('600ea27dc8e8fd3a7ca50c70'), 'show_id': ';1020463513', 'title': 'Lederstrumpf', 'subtitle': 'Der Wildtöter', 'originaltitel': '', 'sender_genre': 'Abenteuerfilm\\nFernsehfilm', 'dmb_haupt_genre': 'TV-Film', 'dmb_neben_genre': 'TV-Abenteuerfilm', 'produktion_land': 'Deutschland / Frankreich', 'produktion_jahr': '1969', 'hinweissender': '', 'titel_ergaenzung': 'Der Wildtöter', 'ausstrahlung_start': '', 'ausstrahlung_sender_start': '2019-01-04T13:00:00', 'ausstrahlung_stop': '2019-01-04T14:30:00', 'ausstrahlung_dauer': '90', 'nettolaenge': '88', 'ausstrahlung_sender': '3SAT', 'produzierender_sender': '', 'dmbInfoset_ProduktionsLaender_ProduktionsLand': 'Deutschland', 'dmbFolgetitel': '', 'dmbStaffel': '', 'dmbFolge': '', 'dmbProduktionsJahr': '1969', 'dmbOriginalFolgetitel': '', 'staff': [], 'produktionsLand': [{'land': 'Deutschland', 'kfz': 'D', 'alpha3': 'DEU'}, {'land': 'Frankreich', 'kfz': 'F', 'alpha3': 'FRA'}], 'crew_united_url': '', 'crew_united_productions': [], 'crew_united_koproduzent_productions': [], 'cu_first_showing_country': '', 'cu_first_showing_station': '', 'cu_first_showing_date_time': '', 'imdb_id': '', 'imdb_link': '', 'imdb_distributors': [], 'imdb_productions': [], 'imdb_flag': '', 'cu_flag': ''}\n",
      "{'_id': ObjectId('600ea27dc8e8fd3a7ca50c72'), 'show_id': ';1020463516', 'title': 'Lederstrumpf', 'subtitle': 'Der letzte Mohikaner', 'originaltitel': '', 'sender_genre': 'Abenteuerfilm\\nFernsehfilm', 'dmb_haupt_genre': 'TV-Film', 'dmb_neben_genre': 'TV-Abenteuerfilm', 'produktion_land': 'Deutschland / Frankreich', 'produktion_jahr': '1969', 'hinweissender': '', 'titel_ergaenzung': 'Der letzte Mohikaner', 'ausstrahlung_start': '', 'ausstrahlung_sender_start': '2019-01-04T14:30:00', 'ausstrahlung_stop': '2019-01-04T15:50:00', 'ausstrahlung_dauer': '80', 'nettolaenge': '80', 'ausstrahlung_sender': '3SAT', 'produzierender_sender': '', 'dmbInfoset_ProduktionsLaender_ProduktionsLand': 'Frankreich', 'dmbFolgetitel': '', 'dmbStaffel': '', 'dmbFolge': '', 'dmbProduktionsJahr': '1969', 'dmbOriginalFolgetitel': '', 'staff': [], 'produktionsLand': [{'land': 'Frankreich', 'kfz': 'F', 'alpha3': 'FRA'}, {'land': 'Deutschland', 'kfz': 'D', 'alpha3': 'DEU'}], 'crew_united_url': '', 'crew_united_productions': [], 'crew_united_koproduzent_productions': [], 'cu_first_showing_country': '', 'cu_first_showing_station': '', 'cu_first_showing_date_time': '', 'imdb_id': '', 'imdb_link': '', 'imdb_distributors': [], 'imdb_productions': [], 'imdb_flag': '', 'cu_flag': ''}\n",
      "{'_id': ObjectId('600ea27dc8e8fd3a7ca50c74'), 'show_id': ';1020463518', 'title': 'Lederstrumpf', 'subtitle': 'Das Fort am Biberfluss', 'originaltitel': '', 'sender_genre': 'Abenteuerfilm\\nFernsehfilm', 'dmb_haupt_genre': 'TV-Film', 'dmb_neben_genre': 'TV-Abenteuerfilm', 'produktion_land': 'Deutschland / Frankreich', 'produktion_jahr': '1969', 'hinweissender': '', 'titel_ergaenzung': 'Das Fort am Biberfluss', 'ausstrahlung_start': '', 'ausstrahlung_sender_start': '2019-01-04T15:50:00', 'ausstrahlung_stop': '2019-01-04T17:25:00', 'ausstrahlung_dauer': '95', 'nettolaenge': '93', 'ausstrahlung_sender': '3SAT', 'produzierender_sender': '', 'dmbInfoset_ProduktionsLaender_ProduktionsLand': 'Frankreich', 'dmbFolgetitel': '', 'dmbStaffel': '', 'dmbFolge': '', 'dmbProduktionsJahr': '1969', 'dmbOriginalFolgetitel': '', 'staff': [], 'produktionsLand': [{'land': 'Frankreich', 'kfz': 'F', 'alpha3': 'FRA'}, {'land': 'Deutschland', 'kfz': 'D', 'alpha3': 'DEU'}], 'crew_united_url': '', 'crew_united_productions': [], 'crew_united_koproduzent_productions': [], 'cu_first_showing_country': '', 'cu_first_showing_station': '', 'cu_first_showing_date_time': '', 'imdb_id': '', 'imdb_link': '', 'imdb_distributors': [], 'imdb_productions': [], 'imdb_flag': '', 'cu_flag': ''}\n",
      "{'_id': ObjectId('600ea27dc8e8fd3a7ca50c76'), 'show_id': ';1020463522', 'title': 'Lederstrumpf', 'subtitle': 'Die Prärie', 'originaltitel': '', 'sender_genre': 'Abenteuerfilm\\nFernsehfilm', 'dmb_haupt_genre': 'TV-Film', 'dmb_neben_genre': 'TV-Abenteuerfilm', 'produktion_land': 'Deutschland / Frankreich', 'produktion_jahr': '1969', 'hinweissender': '', 'titel_ergaenzung': 'Die Prärie', 'ausstrahlung_start': '', 'ausstrahlung_sender_start': '2019-01-04T17:25:00', 'ausstrahlung_stop': '2019-01-04T19:00:00', 'ausstrahlung_dauer': '95', 'nettolaenge': '95', 'ausstrahlung_sender': '3SAT', 'produzierender_sender': '', 'dmbInfoset_ProduktionsLaender_ProduktionsLand': 'Deutschland', 'dmbFolgetitel': '', 'dmbStaffel': '', 'dmbFolge': '', 'dmbProduktionsJahr': '1969', 'dmbOriginalFolgetitel': '', 'staff': [], 'produktionsLand': [{'land': 'Deutschland', 'kfz': 'D', 'alpha3': 'DEU'}, {'land': 'Frankreich', 'kfz': 'F', 'alpha3': 'FRA'}], 'crew_united_url': '', 'crew_united_productions': [], 'crew_united_koproduzent_productions': [], 'cu_first_showing_country': '', 'cu_first_showing_station': '', 'cu_first_showing_date_time': '', 'imdb_id': '', 'imdb_link': '', 'imdb_distributors': [], 'imdb_productions': [], 'imdb_flag': '', 'cu_flag': ''}\n",
      "{'_id': ObjectId('600ea27dc8e8fd3a7ca50c86'), 'show_id': ';1020463542', 'title': 'Der Kommissar', 'subtitle': 'Toter Herr im Regen', 'originaltitel': '', 'sender_genre': 'Kriminalreihe\\nSerie', 'dmb_haupt_genre': 'Serie', 'dmb_neben_genre': 'Krimiserie', 'produktion_land': 'Deutschland', 'produktion_jahr': '1969', 'hinweissender': '', 'titel_ergaenzung': '', 'ausstrahlung_start': '', 'ausstrahlung_sender_start': '2019-01-04T22:25:00', 'ausstrahlung_stop': '2019-01-04T23:25:00', 'ausstrahlung_dauer': '60', 'nettolaenge': '', 'ausstrahlung_sender': '3SAT', 'produzierender_sender': '', 'dmbInfoset_ProduktionsLaender_ProduktionsLand': 'Deutschland', 'dmbFolgetitel': 'Toter Herr im Regen', 'dmbStaffel': '', 'dmbFolge': '', 'dmbProduktionsJahr': '1969', 'dmbOriginalFolgetitel': '', 'staff': [], 'produktionsLand': [{'land': 'Deutschland', 'kfz': 'D', 'alpha3': 'DEU'}], 'crew_united_url': '/de/Der-Kommissar__176420.html', 'crew_united_productions': ['DR Danmarks Radio TV [dk]'], 'crew_united_koproduzent_productions': ['ZDF - Zweites Deutsches Fernsehen [de]'], 'cu_first_showing_country': '', 'cu_first_showing_station': '', 'cu_first_showing_date_time': '', 'imdb_id': 'tt0394731', 'imdb_link': 'https://www.imdb.com/title/tt0394731/', 'imdb_distributors': [], 'imdb_productions': [], 'imdb_flag': 'episode', 'cu_flag': 'year'}\n",
      "{'_id': ObjectId('600ea27dc8e8fd3a7ca50c88'), 'show_id': ';1020463545', 'title': 'Der Kommissar', 'subtitle': 'Schrei vor dem Fenster', 'originaltitel': '', 'sender_genre': 'Kriminalreihe\\nSerie', 'dmb_haupt_genre': 'Serie', 'dmb_neben_genre': 'Krimiserie', 'produktion_land': 'Deutschland', 'produktion_jahr': '1969', 'hinweissender': '', 'titel_ergaenzung': '', 'ausstrahlung_start': '', 'ausstrahlung_sender_start': '2019-01-04T23:25:00', 'ausstrahlung_stop': '2019-01-05T00:25:00', 'ausstrahlung_dauer': '60', 'nettolaenge': '', 'ausstrahlung_sender': '3SAT', 'produzierender_sender': '', 'dmbInfoset_ProduktionsLaender_ProduktionsLand': 'Deutschland', 'dmbFolgetitel': 'Schrei vor dem Fenster', 'dmbStaffel': '', 'dmbFolge': '', 'dmbProduktionsJahr': '1969 / 1976', 'dmbOriginalFolgetitel': '', 'staff': [], 'produktionsLand': [{'land': 'Deutschland', 'kfz': 'D', 'alpha3': 'DEU'}], 'crew_united_url': '/de/Der-Kommissar__176420.html', 'crew_united_productions': ['DR Danmarks Radio TV [dk]'], 'crew_united_koproduzent_productions': ['ZDF - Zweites Deutsches Fernsehen [de]'], 'cu_first_showing_country': '', 'cu_first_showing_station': '', 'cu_first_showing_date_time': '', 'imdb_id': 'tt0394706', 'imdb_link': 'https://www.imdb.com/title/tt0394706/', 'imdb_distributors': [], 'imdb_productions': [], 'imdb_flag': 'episode', 'cu_flag': 'year'}\n",
      "{'_id': ObjectId('600ea27dc8e8fd3a7ca50c8a'), 'show_id': ';1020463548', 'title': 'Der Kommissar', 'subtitle': 'Tod einer Zeugin', 'originaltitel': '', 'sender_genre': 'Kriminalreihe\\nSerie', 'dmb_haupt_genre': 'Serie', 'dmb_neben_genre': 'Krimiserie', 'produktion_land': 'Deutschland', 'produktion_jahr': '1969', 'hinweissender': '', 'titel_ergaenzung': '', 'ausstrahlung_start': '', 'ausstrahlung_sender_start': '2019-01-04T00:25:00', 'ausstrahlung_stop': '2019-01-05T01:20:00', 'ausstrahlung_dauer': '55', 'nettolaenge': '', 'ausstrahlung_sender': '3SAT', 'produzierender_sender': '', 'dmbInfoset_ProduktionsLaender_ProduktionsLand': 'Deutschland', 'dmbFolgetitel': 'Tod einer Zeugin', 'dmbStaffel': '', 'dmbFolge': '', 'dmbProduktionsJahr': '1969 / 1976', 'dmbOriginalFolgetitel': '', 'staff': [], 'produktionsLand': [{'land': 'Deutschland', 'kfz': 'D', 'alpha3': 'DEU'}], 'crew_united_url': '/de/Der-Kommissar__176420.html', 'crew_united_productions': ['DR Danmarks Radio TV [dk]'], 'crew_united_koproduzent_productions': ['ZDF - Zweites Deutsches Fernsehen [de]'], 'cu_first_showing_country': '', 'cu_first_showing_station': '', 'cu_first_showing_date_time': '', 'imdb_id': 'tt0394718', 'imdb_link': 'https://www.imdb.com/title/tt0394718/', 'imdb_distributors': [], 'imdb_productions': [], 'imdb_flag': 'episode', 'cu_flag': 'year'}\n",
      "{'_id': ObjectId('600ea27dc8e8fd3a7ca50c8c'), 'show_id': ';1020463551', 'title': 'Der Kommissar', 'subtitle': 'Eine Kugel für den Kommissar', 'originaltitel': '', 'sender_genre': 'Kriminalreihe\\nSerie', 'dmb_haupt_genre': 'Serie', 'dmb_neben_genre': 'Krimiserie', 'produktion_land': 'Deutschland', 'produktion_jahr': '1970', 'hinweissender': '', 'titel_ergaenzung': '', 'ausstrahlung_start': '', 'ausstrahlung_sender_start': '2019-01-04T01:20:00', 'ausstrahlung_stop': '2019-01-05T02:25:00', 'ausstrahlung_dauer': '65', 'nettolaenge': '', 'ausstrahlung_sender': '3SAT', 'produzierender_sender': '', 'dmbInfoset_ProduktionsLaender_ProduktionsLand': 'Deutschland', 'dmbFolgetitel': 'Eine Kugel für den Kommissar', 'dmbStaffel': '', 'dmbFolge': '', 'dmbProduktionsJahr': '1969 / 1976', 'dmbOriginalFolgetitel': '', 'staff': [], 'produktionsLand': [{'land': 'Deutschland', 'kfz': 'D', 'alpha3': 'DEU'}], 'crew_united_url': '/de/Der-Kommissar__176165.html', 'crew_united_productions': ['DR Danmarks Radio TV [dk]'], 'crew_united_koproduzent_productions': ['ZDF - Zweites Deutsches Fernsehen [de]'], 'cu_first_showing_country': '', 'cu_first_showing_station': '', 'cu_first_showing_date_time': '', 'imdb_id': 'tt0394678', 'imdb_link': 'https://www.imdb.com/title/tt0394678/', 'imdb_distributors': [], 'imdb_productions': [], 'imdb_flag': 'episode', 'cu_flag': 'year'}\n",
      "{'_id': ObjectId('600ea27dc8e8fd3a7ca50c8e'), 'show_id': ';1020463554', 'title': 'Der Kommissar', 'subtitle': 'Anonymer Anruf', 'originaltitel': '', 'sender_genre': 'Kriminalreihe\\nSerie', 'dmb_haupt_genre': 'Serie', 'dmb_neben_genre': 'Krimiserie', 'produktion_land': 'Deutschland', 'produktion_jahr': '1970', 'hinweissender': '', 'titel_ergaenzung': '', 'ausstrahlung_start': '', 'ausstrahlung_sender_start': '2019-01-04T02:25:00', 'ausstrahlung_stop': '2019-01-05T03:25:00', 'ausstrahlung_dauer': '60', 'nettolaenge': '', 'ausstrahlung_sender': '3SAT', 'produzierender_sender': '', 'dmbInfoset_ProduktionsLaender_ProduktionsLand': 'Deutschland', 'dmbFolgetitel': 'Anonymer Anruf', 'dmbStaffel': '', 'dmbFolge': '', 'dmbProduktionsJahr': '1969 / 1976', 'dmbOriginalFolgetitel': '', 'staff': [], 'produktionsLand': [{'land': 'Deutschland', 'kfz': 'D', 'alpha3': 'DEU'}], 'crew_united_url': '/de/Der-Kommissar__176165.html', 'crew_united_productions': ['DR Danmarks Radio TV [dk]'], 'crew_united_koproduzent_productions': ['ZDF - Zweites Deutsches Fernsehen [de]'], 'cu_first_showing_country': '', 'cu_first_showing_station': '', 'cu_first_showing_date_time': '', 'imdb_id': 'tt0394650', 'imdb_link': 'https://www.imdb.com/title/tt0394650/', 'imdb_distributors': [], 'imdb_productions': ['Neue Münchner Fernsehproduktion (NMF)', 'Zweites Deutsches Fernsehen (ZDF)'], 'imdb_flag': 'episode', 'cu_flag': 'year'}\n",
      "{'_id': ObjectId('600ea27dc8e8fd3a7ca50c90'), 'show_id': ';1020463557', 'title': 'Der Kommissar', 'subtitle': 'Drei Tote reisen nach Wien', 'originaltitel': '', 'sender_genre': 'Kriminalreihe\\nSerie', 'dmb_haupt_genre': 'Serie', 'dmb_neben_genre': 'Krimiserie', 'produktion_land': 'Deutschland', 'produktion_jahr': '1970', 'hinweissender': '', 'titel_ergaenzung': '', 'ausstrahlung_start': '', 'ausstrahlung_sender_start': '2019-01-04T03:25:00', 'ausstrahlung_stop': '2019-01-05T04:25:00', 'ausstrahlung_dauer': '60', 'nettolaenge': '', 'ausstrahlung_sender': '3SAT', 'produzierender_sender': '', 'dmbInfoset_ProduktionsLaender_ProduktionsLand': 'Deutschland', 'dmbFolgetitel': 'Drei Tote reisen nach Wien', 'dmbStaffel': '', 'dmbFolge': '', 'dmbProduktionsJahr': '1969 / 1976', 'dmbOriginalFolgetitel': '', 'staff': [], 'produktionsLand': [{'land': 'Deutschland', 'kfz': 'D', 'alpha3': 'DEU'}], 'crew_united_url': '/de/Der-Kommissar__176165.html', 'crew_united_productions': ['DR Danmarks Radio TV [dk]'], 'crew_united_koproduzent_productions': ['ZDF - Zweites Deutsches Fernsehen [de]'], 'cu_first_showing_country': '', 'cu_first_showing_station': '', 'cu_first_showing_date_time': '', 'imdb_id': 'tt0394658', 'imdb_link': 'https://www.imdb.com/title/tt0394658/', 'imdb_distributors': ['Zweites Deutsches Fernsehen (ZDF)', 'Österreichischer Rundfunk (ORF)'], 'imdb_productions': ['Zweites Deutsches Fernsehen (ZDF)'], 'imdb_flag': 'episode', 'cu_flag': 'year'}\n",
      "{'_id': ObjectId('600ea27dc8e8fd3a7ca50cac'), 'show_id': ';1021516443', 'title': 'Die Schatzinsel', 'subtitle': 'Der alte Freibeuter', 'originaltitel': '', 'sender_genre': 'Fernsehfilm', 'dmb_haupt_genre': 'Serie', 'dmb_neben_genre': 'Abenteuerserie', 'produktion_land': 'Deutschland', 'produktion_jahr': '1966', 'hinweissender': '', 'titel_ergaenzung': '', 'ausstrahlung_start': '', 'ausstrahlung_sender_start': '2019-01-05T13:10:00', 'ausstrahlung_stop': '2019-01-05T14:35:00', 'ausstrahlung_dauer': '85', 'nettolaenge': '81', 'ausstrahlung_sender': '3SAT', 'produzierender_sender': '', 'dmbInfoset_ProduktionsLaender_ProduktionsLand': 'Deutschland', 'dmbFolgetitel': 'Der alte Freibeuter', 'dmbStaffel': '-', 'dmbFolge': '1', 'dmbProduktionsJahr': '1966', 'dmbOriginalFolgetitel': '', 'staff': [], 'produktionsLand': [{'land': 'Deutschland', 'kfz': 'D', 'alpha3': 'DEU'}, {'land': 'Frankreich', 'kfz': 'F', 'alpha3': 'FRA'}], 'crew_united_url': '/de/Die-Schatzinsel__50299.html', 'crew_united_productions': ['Prassel & Stampf GmbH'], 'crew_united_koproduzent_productions': [], 'cu_first_showing_country': '', 'cu_first_showing_station': '', 'cu_first_showing_date_time': '', 'imdb_id': 'tt1332382', 'imdb_link': 'https://www.imdb.com/title/tt1332382/', 'imdb_distributors': ['Zweites Deutsches Fernsehen (ZDF)'], 'imdb_productions': [], 'imdb_flag': 'episode', 'cu_flag': 'title'}\n",
      "{'_id': ObjectId('600ea27dc8e8fd3a7ca50cae'), 'show_id': ';1021516445', 'title': 'Die Schatzinsel', 'subtitle': 'Der Schiffskoch', 'originaltitel': '', 'sender_genre': 'Fernsehfilm', 'dmb_haupt_genre': 'Serie', 'dmb_neben_genre': 'Abenteuerserie', 'produktion_land': 'Deutschland', 'produktion_jahr': '1966', 'hinweissender': '', 'titel_ergaenzung': '', 'ausstrahlung_start': '', 'ausstrahlung_sender_start': '2019-01-05T14:35:00', 'ausstrahlung_stop': '2019-01-05T16:00:00', 'ausstrahlung_dauer': '85', 'nettolaenge': '89', 'ausstrahlung_sender': '3SAT', 'produzierender_sender': '', 'dmbInfoset_ProduktionsLaender_ProduktionsLand': 'Deutschland', 'dmbFolgetitel': 'Der Schiffskoch', 'dmbStaffel': '-', 'dmbFolge': '2', 'dmbProduktionsJahr': '1966', 'dmbOriginalFolgetitel': '', 'staff': [], 'produktionsLand': [{'land': 'Deutschland', 'kfz': 'D', 'alpha3': 'DEU'}, {'land': 'Frankreich', 'kfz': 'F', 'alpha3': 'FRA'}], 'crew_united_url': '/de/Die-Schatzinsel__50299.html', 'crew_united_productions': ['Prassel & Stampf GmbH'], 'crew_united_koproduzent_productions': [], 'cu_first_showing_country': '', 'cu_first_showing_station': '', 'cu_first_showing_date_time': '', 'imdb_id': 'tt1392707', 'imdb_link': 'https://www.imdb.com/title/tt1392707/', 'imdb_distributors': ['Zweites Deutsches Fernsehen (ZDF)'], 'imdb_productions': [], 'imdb_flag': 'episode', 'cu_flag': 'title'}\n"
     ]
    }
   ],
   "source": []
  },
  {
   "cell_type": "code",
   "execution_count": null,
   "metadata": {},
   "outputs": [],
   "source": []
  },
  {
   "cell_type": "code",
   "execution_count": null,
   "metadata": {},
   "outputs": [],
   "source": []
  }
 ],
 "metadata": {
  "kernelspec": {
   "display_name": "movie-scrapper",
   "language": "python",
   "name": "movie-scrapper"
  },
  "language_info": {
   "codemirror_mode": {
    "name": "ipython",
    "version": 3
   },
   "file_extension": ".py",
   "mimetype": "text/x-python",
   "name": "python",
   "nbconvert_exporter": "python",
   "pygments_lexer": "ipython3",
   "version": "3.8.3"
  }
 },
 "nbformat": 4,
 "nbformat_minor": 4
}
