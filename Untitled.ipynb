{
 "cells": [
  {
   "cell_type": "code",
   "execution_count": 1,
   "metadata": {},
   "outputs": [],
   "source": [
    "from lxml import etree\n",
    "from pathlib import Path\n",
    "import scrapy\n",
    "from scrapy.utils.response import open_in_browser\n",
    "from scrapy.http import TextResponse\n",
    "import requests"
   ]
  },
  {
   "cell_type": "code",
   "execution_count": null,
   "metadata": {},
   "outputs": [],
   "source": []
  },
  {
   "cell_type": "code",
   "execution_count": null,
   "metadata": {},
   "outputs": [],
   "source": []
  },
  {
   "cell_type": "code",
   "execution_count": 18,
   "metadata": {},
   "outputs": [],
   "source": [
    "from pymongo import MongoClient\n",
    "db=MongoClient()"
   ]
  },
  {
   "cell_type": "code",
   "execution_count": 19,
   "metadata": {},
   "outputs": [],
   "source": [
    "scrapper=db.scrapper"
   ]
  },
  {
   "cell_type": "code",
   "execution_count": 36,
   "metadata": {},
   "outputs": [],
   "source": [
    "scrapper.create_collection(\"projects\")"
   ]
  },
  {
   "cell_type": "code",
   "execution_count": 63,
   "metadata": {},
   "outputs": [],
   "source": [
    "channels=scrapper.create_collection(\"channels\")"
   ]
  },
  {
   "cell_type": "code",
   "execution_count": 37,
   "metadata": {},
   "outputs": [],
   "source": [
    "projects=scrapper.projects"
   ]
  },
  {
   "cell_type": "code",
   "execution_count": 22,
   "metadata": {},
   "outputs": [],
   "source": [
    "path = Path(\"./Archivdaten_2019\")\n",
    "parser = etree.XMLParser(recover=True)\n",
    "files=[file for file in path.iterdir() if not file.is_dir()]\n",
    "file=path.joinpath(\"2019_3SAT.xml\")\n",
    "file\n",
    "tree = etree.parse(str(file),parser=parser)\n",
    "shows=tree.xpath(\".//daten/einfuegen/sendung//stammdaten\")\n",
    "len(shows)"
   ]
  },
  {
   "cell_type": "code",
   "execution_count": 62,
   "metadata": {},
   "outputs": [],
   "source": [
    "files[0].stem"
   ]
  },
  {
   "cell_type": "code",
   "execution_count": 64,
   "metadata": {},
   "outputs": [],
   "source": [
    "for f in files:\n",
    "    scrapper.create_collection(f.stem)"
   ]
  },
  {
   "cell_type": "code",
   "execution_count": 23,
   "metadata": {},
   "outputs": [],
   "source": [
    "ge_shows=tree.xpath(\".//daten/einfuegen/sendung//stammdaten//produktion/land[contains(text(),'Deutschland')]/ancestor-or-self::einfuegen\")"
   ]
  },
  {
   "cell_type": "code",
   "execution_count": 24,
   "metadata": {},
   "outputs": [
    {
     "data": {
      "text/plain": [
       "533"
      ]
     },
     "execution_count": 24,
     "metadata": {},
     "output_type": "execute_result"
    }
   ],
   "source": [
    "len(ge_shows)"
   ]
  },
  {
   "cell_type": "code",
   "execution_count": 29,
   "metadata": {},
   "outputs": [],
   "source": []
  },
  {
   "cell_type": "code",
   "execution_count": 38,
   "metadata": {},
   "outputs": [],
   "source": [
    "for index,show in enumerate(ge_shows):\n",
    "    params={\n",
    "        'show_id':show.xpath(\"./sendung//stammdaten//metadaten/id/text()\")[0],\n",
    "        'title':show.xpath(\"./sendung//stammdaten//programm/titel/text()\")[0],\n",
    "    }\n",
    "    if show.xpath(\"./sendung//stammdaten//programm/nebentitel/text()\"):\n",
    "        params['subtitle']=show.xpath(\"./sendung//stammdaten//programm/nebentitel/text()\")[0] #'tv_series,tv_episode,tv_miniseries,documentary'\n",
    "    else:\n",
    "        params['subtitle']=''\n",
    "    projects.replace_one(params,params,upsert=True)"
   ]
  },
  {
   "cell_type": "code",
   "execution_count": 33,
   "metadata": {},
   "outputs": [
    {
     "data": {
      "text/plain": [
       "<pymongo.cursor.Cursor at 0x139942f8>"
      ]
     },
     "execution_count": 33,
     "metadata": {},
     "output_type": "execute_result"
    }
   ],
   "source": [
    "projects.find().limit(100)"
   ]
  },
  {
   "cell_type": "code",
   "execution_count": 60,
   "metadata": {},
   "outputs": [
    {
     "name": "stdout",
     "output_type": "stream",
     "text": [
      "Lederstrumpf []\n",
      "Lederstrumpf []\n",
      "Lederstrumpf []\n",
      "Lederstrumpf []\n",
      "Der Kommissar [{'title': 'Der Kommissar und das Meer', 'link': '/title/tt0826960/'}, {'title': 'Elvis und der Kommissar', 'link': '/title/tt1138303/'}, {'title': 'Der Kommissar im Kühlschrank - Das Ernährungs-Experiment mit Andreas Hoppe', 'link': '/title/tt2946652/'}]\n",
      "Der Kommissar [{'title': 'Der Kommissar und das Meer', 'link': '/title/tt0826960/'}, {'title': 'Elvis und der Kommissar', 'link': '/title/tt1138303/'}, {'title': 'Der Kommissar im Kühlschrank - Das Ernährungs-Experiment mit Andreas Hoppe', 'link': '/title/tt2946652/'}]\n",
      "Der Kommissar [{'title': 'Der Kommissar und das Meer', 'link': '/title/tt0826960/'}, {'title': 'Elvis und der Kommissar', 'link': '/title/tt1138303/'}, {'title': 'Der Kommissar im Kühlschrank - Das Ernährungs-Experiment mit Andreas Hoppe', 'link': '/title/tt2946652/'}]\n",
      "Der Kommissar [{'title': 'Der Kommissar und das Meer', 'link': '/title/tt0826960/'}, {'title': 'Elvis und der Kommissar', 'link': '/title/tt1138303/'}, {'title': 'Der Kommissar im Kühlschrank - Das Ernährungs-Experiment mit Andreas Hoppe', 'link': '/title/tt2946652/'}]\n",
      "Der Kommissar [{'title': 'Der Kommissar und das Meer', 'link': '/title/tt0826960/'}, {'title': 'Elvis und der Kommissar', 'link': '/title/tt1138303/'}, {'title': 'Der Kommissar im Kühlschrank - Das Ernährungs-Experiment mit Andreas Hoppe', 'link': '/title/tt2946652/'}]\n",
      "Der Kommissar [{'title': 'Der Kommissar und das Meer', 'link': '/title/tt0826960/'}, {'title': 'Elvis und der Kommissar', 'link': '/title/tt1138303/'}, {'title': 'Der Kommissar im Kühlschrank - Das Ernährungs-Experiment mit Andreas Hoppe', 'link': '/title/tt2946652/'}]\n",
      "Die Schatzinsel [{'title': 'Die Schatzinsel', 'link': '/title/tt5370260/'}, {'title': 'Schatzinsel Spezial - Die wahre Geschichte', 'link': '/title/tt1274611/'}]\n",
      "Die Schatzinsel [{'title': 'Die Schatzinsel', 'link': '/title/tt5370260/'}, {'title': 'Schatzinsel Spezial - Die wahre Geschichte', 'link': '/title/tt1274611/'}]\n",
      "Die Schatzinsel [{'title': 'Die Schatzinsel', 'link': '/title/tt5370260/'}, {'title': 'Schatzinsel Spezial - Die wahre Geschichte', 'link': '/title/tt1274611/'}]\n",
      "Die Schatzinsel [{'title': 'Die Schatzinsel', 'link': '/title/tt5370260/'}, {'title': 'Schatzinsel Spezial - Die wahre Geschichte', 'link': '/title/tt1274611/'}]\n",
      "La Habanera [{'title': 'La Habanera', 'link': '/title/tt0028974/'}, {'title': 'La Habanera', 'link': '/title/tt2913940/'}]\n",
      "2-1-0 morgen woanders []\n",
      "Ab 18! - See you []\n",
      "Die Tote ohne Alibi [{'title': 'Die Tote ohne Alibi', 'link': '/title/tt2353945/'}]\n",
      "A Thought of Ecstasy [{'title': 'A Thought of Ecstasy', 'link': '/title/tt6098794/'}]\n",
      "Wiener Blut [{'title': 'Wiener Blut', 'link': '/title/tt0035559/'}, {'title': 'Der Bestseller - Wiener Blut', 'link': '/title/tt0435606/'}]\n",
      "Immer Ärger mit Opa Charly [{'title': 'Immer Ärger mit Opa Charly', 'link': '/title/tt5369030/'}]\n",
      "Zu neuen Ufern [{'title': 'Zu neuen Ufern', 'link': '/title/tt0029819/'}, {'title': 'Kuba - Auf zu neuen Ufern', 'link': '/title/tt6079408/'}, {'title': \"Douglas Sirk erzählt... Zarah Leander und 'Zu neuen Ufern'\", 'link': '/title/tt7214162/'}, {'title': ' In aller Freundschaft', 'link': '/title/tt0178142/'}]\n",
      "Bei der blonden Kathrein [{'title': 'Bei der blonden Kathrein', 'link': '/title/tt0252932/'}]\n",
      "Immer die Radfahrer []\n",
      "Bella Vita [{'title': 'Bella Vita', 'link': '/title/tt1737108/'}]\n",
      "Die Diva, Thailand und wir! [{'title': 'Die Diva, Thailand und wir!', 'link': '/title/tt5887122/'}]\n",
      "Rosa Luxemburg [{'title': 'Partisan: Volksbühne am Rosa-Luxemburg-Platz 1992-2017', 'link': '/title/tt7929276/'}, {'title': 'Rosa Luxemburg: Der Preis der Freiheit', 'link': '/title/tt9606336/'}, {'title': 'Rosa Luxemburg und der Reichskanzler: Ein Staatsman verliert sein Gesicht', 'link': '/title/tt3649288/'}, {'title': ' Die Deutschen', 'link': '/title/tt1236350/'}]\n",
      "... und abends in die Scala []\n",
      "Titanic [{'title': 'The Titan', 'link': '/title/tt4986098/'}, {'title': 'Titanic: Blood and Steel', 'link': '/title/tt1695366/'}, {'title': 'Saving the Titanic', 'link': '/title/tt2084931/'}, {'title': 'Titanic', 'link': '/title/tt0036443/'}, {'title': 'La femme de chambre du Titanic', 'link': '/title/tt0129923/'}, {'title': 'Titanic: Birth of a Legend', 'link': '/title/tt0499084/'}, {'title': 'Titanic Parody', 'link': '/title/tt11786814/'}, {'title': 'Lego Titanic', 'link': '/title/tt7303448/'}, {'title': 'Risen 3: Titan Lords', 'link': '/title/tt4032526/'}, {'title': 'Michelangelo', 'link': '/title/tt0230524/'}, {'title': 'Opeth: Garden of the Titans - Live at Red Rocks Amphitheatre', 'link': '/title/tt9354822/'}, {'title': 'Untergang der Titanic', 'link': '/title/tt2185531/'}, {'title': 'Innen. Bar. Nacht: Untergang Der Titanic', 'link': '/title/tt5933922/'}, {'title': 'Quest-Room: Titanic', 'link': '/title/tt6812386/'}, {'title': 'The Childhood of the Titans', 'link': '/title/tt9056786/'}, {'title': 'Titanic: die einzig wahre Geschichte', 'link': '/title/tt4642942/'}, {'title': 'Dive to the Titanic', 'link': '/title/tt4622112/'}, {'title': 'Titanic: A Mysterious Undersea Adventure', 'link': '/title/tt5524484/'}, {'title': ' 100 Jahre - Der Countdown', 'link': '/title/tt0369073/'}, {'title': ' Die Harald Schmidt Show', 'link': '/title/tt0112044/'}]\n",
      "Das schwarze Schaf [{'title': 'Das schwarze Schaf', 'link': '/title/tt1089594/'}, {'title': 'Das schwarze Schaf', 'link': '/title/tt0152305/'}, {'title': ' Verbotene Liebe', 'link': '/title/tt0108979/'}]\n",
      "Er kann's nicht lassen []\n",
      "Bella Australia [{'title': 'Bella Australia', 'link': '/title/tt2345483/'}]\n",
      "Andermatt - Global Village []\n",
      "Mutter muss weg [{'title': 'Mutter muss weg', 'link': '/title/tt1932679/'}]\n",
      "Im Labyrinth des Schweigens [{'title': 'Im Labyrinth des Schweigens', 'link': '/title/tt3825638/'}]\n",
      "Heiraten ist auch keine Lösung [{'title': 'Heiraten ist auch keine Lösung', 'link': '/title/tt2370006/'}]\n",
      "Hattinger und die kalte Hand [{'title': 'Hattinger und die kalte Hand - Ein Chiemseekrimi', 'link': '/title/tt3312232/'}]\n",
      "Weissensee [{'title': 'Weissensee', 'link': '/title/tt1525780/'}, {'title': 'Im Himmel, unter der Erde - Der jüdische Friedhof Weißensee', 'link': '/title/tt1833710/'}]\n",
      "Weissensee [{'title': 'Weissensee', 'link': '/title/tt1525780/'}, {'title': 'Im Himmel, unter der Erde - Der jüdische Friedhof Weißensee', 'link': '/title/tt1833710/'}]\n",
      "Weissensee [{'title': 'Weissensee', 'link': '/title/tt1525780/'}, {'title': 'Im Himmel, unter der Erde - Der jüdische Friedhof Weißensee', 'link': '/title/tt1833710/'}]\n",
      "Tausche Firma gegen Haushalt [{'title': 'Tausche Firma gegen Haushalt', 'link': '/title/tt0400876/'}]\n",
      "Bis zum Horizont, dann links! [{'title': 'Bis zum Horizont, dann links!', 'link': '/title/tt1907628/'}]\n",
      "Harry nervt [{'title': 'Harry nervt', 'link': '/title/tt2072115/'}]\n",
      "Bella Dilemma []\n",
      "Berlin Rebel High School [{'title': 'Berlin Rebel High School', 'link': '/title/tt5863950/'}]\n",
      "Ellas Baby [{'title': 'Ellas Baby', 'link': '/title/tt6163162/'}]\n",
      "Achtzehn - Wagnis Leben []\n",
      "Elle [{'title': 'Elle', 'link': '/title/tt3716530/'}, {'title': 'Elles', 'link': '/title/tt1549589/'}, {'title': 'Die schönsten Frauen der Welt - Elle MacPherson', 'link': '/title/tt0244192/'}, {'title': 'Elle Magazine Model Contest', 'link': '/title/tt10776930/'}, {'title': 'Blank & Jones Feat. Elles: Mind of the Wonderful', 'link': '/title/tt11315574/'}, {'title': 'Wilma Elles: Ein deutscher Superstar in der Türkei', 'link': '/title/tt7553002/'}, {'title': \"Kate Ryan: Ella, elle l'a\", 'link': '/title/tt9845826/'}]\n",
      "Blütenträume [{'title': 'Blütenträume', 'link': '/title/tt5584072/'}, {'title': ' Hinter Gittern - Der Frauenknast', 'link': '/title/tt0144050/'}, {'title': ' Einsatz für Lohbeck', 'link': '/title/tt0108759/'}]\n",
      "Victoria [{'title': 'Victoria', 'link': '/title/tt4226388/'}, {'title': 'Viktor und Viktoria', 'link': '/title/tt0024736/'}, {'title': 'Victoria Black', 'link': '/title/tt10440724/'}, {'title': 'Viktoria und ihr Husar', 'link': '/title/tt0122305/'}, {'title': 'Victoria Cross Gabbar Singh Negi', 'link': '/title/tt9689248/'}, {'title': 'Victoria', 'link': '/title/tt5201576/'}, {'title': 'Erblühen einer Victoria Regia', 'link': '/title/tt4025386/'}, {'title': 'Victoria Conrady Feat. Mark Forster: Maniac', 'link': '/title/tt8533794/'}, {'title': ' Königliche Hochzeit', 'link': '/title/tt1665956/'}]\n",
      "Hedi Schneider steckt fest [{'title': 'Hedi Schneider steckt fest', 'link': '/title/tt3707396/'}]\n",
      "24 WOCHEN [{'title': '24 Wochen', 'link': '/title/tt5369484/'}]\n",
      "Wild [{'title': 'Where the Wild Things Are', 'link': '/title/tt0386117/'}, {'title': 'Ahlat Agaci', 'link': '/title/tt6628102/'}, {'title': 'Wilde', 'link': '/title/tt0120514/'}, {'title': 'Deuces Wild', 'link': '/title/tt0231448/'}, {'title': 'Wild Oats', 'link': '/title/tt1655461/'}, {'title': 'Jim Knopf und die Wilde 13', 'link': '/title/tt9839038/'}, {'title': 'Das wilde Leben', 'link': '/title/tt0764639/'}, {'title': 'Another Gay Sequel: Gays Gone Wild!', 'link': '/title/tt1051981/'}, {'title': 'The Wild Blue Yonder', 'link': '/title/tt0443693/'}, {'title': 'Wild', 'link': '/title/tt4071086/'}, {'title': 'Ostwind 3: Aufbruch nach Ora', 'link': '/title/tt5311972/'}, {'title': 'Lissi und der wilde Kaiser', 'link': '/title/tt0498525/'}, {'title': 'Wild Republic', 'link': '/title/tt11329064/'}, {'title': 'Die Wilden Kerle: Alles ist gut, solange du wild bist!', 'link': '/title/tt0376990/'}, {'title': 'Die Wilden Kerle 6 - Die Legende lebt', 'link': '/title/tt5126792/'}, {'title': 'Wilde Maus', 'link': '/title/tt5376196/'}, {'title': 'Max und die wilde 7', 'link': '/title/tt10857100/'}, {'title': 'Die Wilden Hühner', 'link': '/title/tt0466195/'}, {'title': 'Wildes Russland', 'link': '/title/tt1442188/'}, {'title': 'Die Wilden Hühner und das Leben', 'link': '/title/tt1213660/'}, {'title': 'Die Wilden Hühner und die Liebe', 'link': '/title/tt0844463/'}, {'title': 'Die Wilden Kerle 5', 'link': '/title/tt1058579/'}, {'title': 'Touching Wild Horses', 'link': '/title/tt0298578/'}, {'title': 'Zarah: Wilde Jahre', 'link': '/title/tt6756488/'}, {'title': 'Wild Yellowstone', 'link': '/title/tt11669950/'}, {'title': 'Die Wilden Kerle 4', 'link': '/title/tt0811159/'}, {'title': 'Wilde Engel', 'link': '/title/tt0318259/'}, {'title': 'Wildes Skandinavien', 'link': '/title/tt1840877/'}, {'title': 'Wild Ireland: The Edge of the World', 'link': '/title/tt7503792/'}, {'title': 'Wild About Harry', 'link': '/title/tt0216279/'}, {'title': 'Das war der wilde Osten', 'link': '/title/tt0104349/'}, {'title': 'Young and Wild', 'link': '/title/tt3761822/'}, {'title': 'Combat de fauves', 'link': '/title/tt0123707/'}, {'title': 'Vivian Schmitt: Die neue Gina Wild', 'link': '/title/tt7446108/'}, {'title': 'Australien', 'link': '/title/tt3766094/'}, {'title': 'Wildes Deutschland', 'link': '/title/tt1889351/'}, {'title': 'The Wild Andes', 'link': '/title/tt10956214/'}, {'title': 'Wild Wanna Bees: Die Luder-WG', 'link': '/title/tt3168798/'}, {'title': 'Wilde Engel', 'link': '/title/tt0310543/'}, {'title': 'Das Waisenhaus für wilde Tiere', 'link': '/title/tt2143073/'}, {'title': 'Wild Relatives', 'link': '/title/tt7926148/'}, {'title': 'Wilde Jungs', 'link': '/title/tt0382374/'}, {'title': 'Wild Girls - Auf High Heels durch Afrika', 'link': '/title/tt3026214/'}, {'title': 'Wild Germany', 'link': '/title/tt1840260/'}, {'title': 'Zhar nezhnykh. Dikiy, dikiy plyazh', 'link': '/title/tt0926352/'}, {'title': 'Wild Plants', 'link': '/title/tt5625916/'}, {'title': 'Wildes Herz', 'link': '/title/tt7922976/'}, {'title': 'Cabaret-Berlin, la scène sauvage', 'link': '/title/tt1653145/'}, {'title': 'Indiens wilde Schönheit', 'link': '/title/tt2160869/'}, {'title': 'Lads go Wild, Naturburschen', 'link': '/title/tt10583332/'}]\n",
      "Charité [{'title': 'Charité', 'link': '/title/tt5337806/'}, {'title': 'Die Chefärzte der Charité', 'link': '/title/tt1718767/'}, {'title': 'Die Charité: Geschichten von Leben und Tod', 'link': '/title/tt6753178/'}]\n",
      "Charité [{'title': 'Charité', 'link': '/title/tt5337806/'}, {'title': 'Die Chefärzte der Charité', 'link': '/title/tt1718767/'}, {'title': 'Die Charité: Geschichten von Leben und Tod', 'link': '/title/tt6753178/'}]\n",
      "Charité [{'title': 'Charité', 'link': '/title/tt5337806/'}, {'title': 'Die Chefärzte der Charité', 'link': '/title/tt1718767/'}, {'title': 'Die Charité: Geschichten von Leben und Tod', 'link': '/title/tt6753178/'}]\n",
      "Charité [{'title': 'Charité', 'link': '/title/tt5337806/'}, {'title': 'Die Chefärzte der Charité', 'link': '/title/tt1718767/'}, {'title': 'Die Charité: Geschichten von Leben und Tod', 'link': '/title/tt6753178/'}]\n",
      "Charité [{'title': 'Charité', 'link': '/title/tt5337806/'}, {'title': 'Die Chefärzte der Charité', 'link': '/title/tt1718767/'}, {'title': 'Die Charité: Geschichten von Leben und Tod', 'link': '/title/tt6753178/'}]\n",
      "Charité [{'title': 'Charité', 'link': '/title/tt5337806/'}, {'title': 'Die Chefärzte der Charité', 'link': '/title/tt1718767/'}, {'title': 'Die Charité: Geschichten von Leben und Tod', 'link': '/title/tt6753178/'}]\n",
      "Ein Geschenk des Himmels [{'title': 'Ein Geschenk des Himmels', 'link': '/title/tt0481851/'}]\n",
      "Wer's glaubt wird selig [{'title': \"Wer's glaubt, wird selig\", 'link': '/title/tt1858538/'}, {'title': \"Wer's glaubt, wird selig\", 'link': '/title/tt0187594/'}, {'title': \"Nuhr wer's glaubt, wird selig\", 'link': '/title/tt1059816/'}]\n",
      "Wehe, wenn sie losgelassen [{'title': 'Wehe wenn sie losgelassen', 'link': '/title/tt0017533/'}, {'title': 'Wehe, wenn sie losgelassen', 'link': '/title/tt7333534/'}]\n",
      "Das fliegende Klassenzimmer [{'title': 'Das fliegende Klassenzimmer', 'link': '/title/tt0311141/'}, {'title': \"Making of 'Das fliegende Klassenzimmer'\", 'link': '/title/tt1975909/'}]\n",
      "Bella Familia []\n",
      "Heidi [{'title': 'Heidi', 'link': '/title/tt3700392/'}, {'title': 'Heidi', 'link': '/title/tt4346362/'}, {'title': 'Heidi', 'link': '/title/tt0298903/'}, {'title': 'Heidi Fleiss: Hollywood Madam', 'link': '/title/tt0113283/'}, {'title': 'Heidi M.', 'link': '/title/tt0280733/'}, {'title': 'Heidi', 'link': '/title/tt0415839/'}, {'title': 'Heidi und Erni', 'link': '/title/tt0098822/'}, {'title': ' Böse Mädchen', 'link': '/title/tt1385818/'}, {'title': ' Inka!', 'link': '/title/tt3149798/'}]\n",
      "Opernball [{'title': 'Opernball', 'link': '/title/tt0129277/'}, {'title': 'Opernball', 'link': '/title/tt0031763/'}]\n",
      "Lilly Schönauer: Paulas Traum []\n",
      "Die Lümmel von der ersten Bank []\n",
      "Hurra, die Schule brennt! []\n",
      "Morgen fällt die Schule aus []\n",
      "Ein Schnitzel für drei [{'title': 'Ein Schnitzel für drei', 'link': '/title/tt1327702/'}]\n",
      "Ein Schnitzel für alle [{'title': 'Ein Schnitzel für alle', 'link': '/title/tt3084316/'}]\n",
      "Hilfe, wir sind offline! [{'title': 'Hilfe, wir sind offline!', 'link': '/title/tt5088010/'}]\n",
      "Zwei verlorene Schafe [{'title': 'Zwei verlorene Schafe', 'link': '/title/tt6022568/'}]\n",
      "Natürlich die Autofahrer []\n",
      "Ein Schnitzel für drei [{'title': 'Ein Schnitzel für drei', 'link': '/title/tt1327702/'}]\n",
      "Ein Schnitzel für alle [{'title': 'Ein Schnitzel für alle', 'link': '/title/tt3084316/'}]\n",
      "A Song of an unknown Actress [{'title': 'A Song of an Unknown Actress', 'link': '/title/tt9803698/'}]\n",
      "Alles Schwindel [{'title': 'Alles Schwindel', 'link': '/title/tt2692570/'}, {'title': 'Alles Schwindel', 'link': '/title/tt0032196/'}, {'title': ' Die Rosenheim-Cops', 'link': '/title/tt0305095/'}]\n",
      "Lilly Schönauer: Verliebt in einen Unbekannten []\n",
      "Lilly Schönauer: Und dann war es Liebe []\n",
      "Das Institut - Oase des Scheiterns []\n",
      "Das Institut - Oase des Scheiterns []\n",
      "Das Institut - Oase des Scheiterns []\n",
      "Bella Casa []\n",
      "Das Institut - Oase des Scheiterns []\n",
      "Das Institut - Oase des Scheiterns []\n",
      "Das Institut - Oase des Scheiterns []\n",
      "Meine Frau, ihr Traummann und ich [{'title': 'Meine Frau, ihr Traummann und ich', 'link': '/title/tt3577716/'}]\n",
      "Große Fische, kleine Fische [{'title': 'Große Fische, kleine Fische', 'link': '/title/tt4700502/'}, {'title': ' Ein starkes Team', 'link': '/title/tt0874686/'}]\n",
      "Das Institut - Oase des Scheiterns []\n",
      "Das Institut - Oase des Scheiterns []\n",
      "Weniger ist mehr [{'title': 'Weniger ist mehr', 'link': '/title/tt2211670/'}, {'title': 'Weniger ist mehr - Die Grenzen des Wachstums', 'link': '/title/tt3592514/'}]\n",
      "Wer aufgibt ist tot [{'title': 'Wer aufgibt ist tot', 'link': '/title/tt5962460/'}]\n",
      "Ausgerechnet Sibirien [{'title': 'Ausgerechnet Sibirien', 'link': '/title/tt1833843/'}]\n",
      "Mustang [{'title': 'Mustang', 'link': '/title/tt3966404/'}]\n",
      "Garmischer Bergspitzen [{'title': 'Garmischer Bergspitzen', 'link': '/title/tt1517472/'}]\n",
      "Hissa Hilal - eine Stimme hinter dem Schleier [{'title': 'Hissa Hilal - Eine Stimme hinter dem Schleier', 'link': '/title/tt7240656/'}]\n",
      "Die kalte Wahrheit [{'title': 'Die kalte Wahrheit', 'link': '/title/tt3588444/'}]\n",
      "Das Konto [{'title': 'Das Konto', 'link': '/title/tt0329271/'}]\n"
     ]
    }
   ],
   "source": [
    "for index,show in enumerate(projects.find().limit(100)):\n",
    "    if index<100:\n",
    "        params={'title':show['title'],'countries':'de'}\n",
    "        if show['subtitle']:\n",
    "            params['title_type']='tv_series,tv_miniseries,documentary'\n",
    "        response=requests.get(\"https://www.imdb.com/search/title/\",params=params)\n",
    "        response = TextResponse(response.url, body=response.text, encoding='utf-8')\n",
    "        main=response.xpath(\".//div[@id='main']\")\n",
    "        raw_shows=main.xpath(\".//div[@class='article']//div[@class='lister list detail sub-list']//div[@class='lister-item-content']\"\n",
    "                 \"//h3[@class='lister-item-header']//a[1]\")\n",
    "        shows=[]\n",
    "        for raw_show in raw_shows:\n",
    "            shows.append({'title':raw_show.xpath(\"./text()\").get(),'link':raw_show.xpath(\"./@href\").get()})\n",
    "        print(show['title'],shows)"
   ]
  },
  {
   "cell_type": "code",
   "execution_count": 6,
   "metadata": {},
   "outputs": [
    {
     "data": {
      "text/plain": [
       "['Nils Holgerssons wunderbare Reise']"
      ]
     },
     "execution_count": 6,
     "metadata": {},
     "output_type": "execute_result"
    }
   ],
   "source": [
    "ge_shows[1].xpath(\"./sendung//stammdaten//programm/titel/text()\")"
   ]
  },
  {
   "cell_type": "code",
   "execution_count": 7,
   "metadata": {},
   "outputs": [],
   "source": [
    "response=requests.get(\"https://www.imdb.com/search/title/\",params={'title':'Nils Holgerssons wunderbare Reise'})"
   ]
  },
  {
   "cell_type": "code",
   "execution_count": 8,
   "metadata": {},
   "outputs": [],
   "source": [
    "response = TextResponse(response.url, body=response.text, encoding='utf-8')"
   ]
  },
  {
   "cell_type": "code",
   "execution_count": 9,
   "metadata": {},
   "outputs": [
    {
     "data": {
      "text/plain": [
       "True"
      ]
     },
     "execution_count": 9,
     "metadata": {},
     "output_type": "execute_result"
    }
   ],
   "source": [
    "open_in_browser(response)"
   ]
  },
  {
   "cell_type": "code",
   "execution_count": 10,
   "metadata": {},
   "outputs": [
    {
     "data": {
      "text/plain": [
       "[<Selector xpath=\".//div[@id='main']\" data='<div id=\"main\">\\n        <div class=\"a...'>]"
      ]
     },
     "execution_count": 10,
     "metadata": {},
     "output_type": "execute_result"
    }
   ],
   "source": [
    "main=response.xpath(\".//div[@id='main']\")\n",
    "main"
   ]
  },
  {
   "cell_type": "code",
   "execution_count": 11,
   "metadata": {},
   "outputs": [],
   "source": [
    "shows=main.xpath(\".//div[@class='article']//div[@class='lister list detail sub-list']//div[@class='lister-item-content']\"\n",
    "                 \"//h3[@class='lister-item-header']//a/@href\").extract()"
   ]
  },
  {
   "cell_type": "code",
   "execution_count": 12,
   "metadata": {},
   "outputs": [
    {
     "data": {
      "text/plain": [
       "['/title/tt2125222/']"
      ]
     },
     "execution_count": 12,
     "metadata": {},
     "output_type": "execute_result"
    }
   ],
   "source": [
    "shows"
   ]
  },
  {
   "cell_type": "code",
   "execution_count": null,
   "metadata": {},
   "outputs": [],
   "source": []
  }
 ],
 "metadata": {
  "kernelspec": {
   "display_name": "movie-scrapper",
   "language": "python",
   "name": "movie-scrapper"
  },
  "language_info": {
   "codemirror_mode": {
    "name": "ipython",
    "version": 3
   },
   "file_extension": ".py",
   "mimetype": "text/x-python",
   "name": "python",
   "nbconvert_exporter": "python",
   "pygments_lexer": "ipython3",
   "version": "3.8.3"
  }
 },
 "nbformat": 4,
 "nbformat_minor": 4
}
