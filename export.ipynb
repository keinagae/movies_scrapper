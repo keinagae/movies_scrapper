{
 "cells": [
  {
   "cell_type": "code",
   "execution_count": 1,
   "metadata": {},
   "outputs": [],
   "source": [
    "import functools\n",
    "import json\n",
    "from pymongo import MongoClient"
   ]
  },
  {
   "cell_type": "code",
   "execution_count": 4,
   "metadata": {
    "collapsed": false,
    "jupyter": {
     "outputs_hidden": false
    },
    "pycharm": {
     "name": "#%%\n"
    }
   },
   "outputs": [
    {
     "data": {
      "text/plain": [
       "[{'name': 'imdb_export',\n",
       "  'type': 'collection',\n",
       "  'options': {},\n",
       "  'info': {'readOnly': False,\n",
       "   'uuid': UUID('2894d504-08f3-4aa3-b0e1-c616c6fc7683')},\n",
       "  'idIndex': {'v': 2, 'key': {'_id': 1}, 'name': '_id_'}}]"
      ]
     },
     "execution_count": 4,
     "metadata": {},
     "output_type": "execute_result"
    }
   ],
   "source": [
    "db=MongoClient()\n",
    "stations = db.imfb\n",
    "s_stations=[station for station in\n",
    "                        sorted(list(stations.list_collections()), key=lambda station: station['name']) if\n",
    "                        station['name'] not in ['logs','imdb', 'empties']]\n",
    "s_stations"
   ]
  },
  {
   "cell_type": "code",
   "execution_count": 5,
   "metadata": {},
   "outputs": [],
   "source": [
    "from openpyxl import Workbook\n",
    "wb = Workbook(write_only=True)"
   ]
  },
  {
   "cell_type": "code",
   "execution_count": 6,
   "metadata": {},
   "outputs": [],
   "source": [
    "def get_excel_row(row):\n",
    "    if isinstance(row,list):\n",
    "        output=[]\n",
    "        for col in row:\n",
    "            if isinstance(col,list) or isinstance(col,dict):\n",
    "                output.append(json.dumps(col))\n",
    "            else:\n",
    "                output.append(col)\n",
    "        return output\n",
    "    elif isinstance(row,dict):\n",
    "        output= {}\n",
    "        for key,val in row.items():\n",
    "            if isinstance(val,list) or  isinstance(val,dict) :\n",
    "                output[key]=json.dumps(val)\n",
    "            else:\n",
    "                output[key]=val\n",
    "        return output"
   ]
  },
  {
   "cell_type": "code",
   "execution_count": 7,
   "metadata": {},
   "outputs": [
    {
     "name": "stdout",
     "output_type": "stream",
     "text": [
      "Worked on 0 imdb_export\n"
     ]
    }
   ],
   "source": [
    "for index, station in enumerate(s_stations):\n",
    "    station_collection = stations[station['name']]\n",
    "    ws=wb.create_sheet(station_collection.name)\n",
    "    header={}\n",
    "    for row in station_collection.find({}):\n",
    "        header=get_excel_row(row)\n",
    "        header.pop(\"_id\")\n",
    "        break\n",
    "    ws.append(list(header.keys()))\n",
    "    for row in station_collection.find({}):\n",
    "        c_row=get_excel_row(row)\n",
    "        c_row.pop(\"_id\")\n",
    "        ws.append(list(c_row.values()))\n",
    "    print(f\"Worked on {index} {station['name']}\")"
   ]
  },
  {
   "cell_type": "code",
   "execution_count": 6,
   "metadata": {
    "collapsed": false,
    "jupyter": {
     "outputs_hidden": false
    },
    "pycharm": {
     "name": "#%%\n"
    }
   },
   "outputs": [],
   "source": [
    "wb.save(filename=\"2020_final_shows.xlsx\")"
   ]
  },
  {
   "cell_type": "code",
   "execution_count": null,
   "metadata": {},
   "outputs": [],
   "source": []
  }
 ],
 "metadata": {
  "kernelspec": {
   "display_name": "movie-scrapper",
   "language": "python",
   "name": "movie-scrapper"
  },
  "language_info": {
   "codemirror_mode": {
    "name": "ipython",
    "version": 3
   },
   "file_extension": ".py",
   "mimetype": "text/x-python",
   "name": "python",
   "nbconvert_exporter": "python",
   "pygments_lexer": "ipython3",
   "version": "3.8.3"
  }
 },
 "nbformat": 4,
 "nbformat_minor": 4
}
