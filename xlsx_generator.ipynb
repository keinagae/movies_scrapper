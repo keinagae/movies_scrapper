{
 "cells": [
  {
   "cell_type": "code",
   "execution_count": 1,
   "metadata": {},
   "outputs": [],
   "source": [
    "from lxml import etree\n",
    "from pathlib import Path\n",
    "from openpyxl import Workbook\n",
    "import collections"
   ]
  },
  {
   "cell_type": "code",
   "execution_count": 2,
   "metadata": {},
   "outputs": [],
   "source": [
    "def get_flattened_show(node,data):\n",
    "    for item in node:\n",
    "        if len(item)==0:\n",
    "            text= item.text.strip() if item.text  else ''\n",
    "            if item.tag in data.keys():\n",
    "                if isinstance(data[item.tag],list):\n",
    "                    data[item.tag].append(text)\n",
    "                else:\n",
    "                    data[item.tag]=[data[item.tag]]\n",
    "            else:\n",
    "                data[item.tag] = text\n",
    "        else:\n",
    "            # print(item.tag,end=\"--\")\n",
    "            get_flattened_show(item,data)\n",
    "\n",
    "def split_list_attributes(shows):\n",
    "    for show in shows:\n",
    "        key_to_change=[]\n",
    "        for key in show.keys():\n",
    "            if isinstance(show[key],list):\n",
    "                key_to_change.append(key)\n",
    "        for key in key_to_change:\n",
    "            key_values=show.pop(key)\n",
    "#         print(key)\n",
    "            if key==\"Fullname\":\n",
    "                show[key]=key_values[0]\n",
    "            else:\n",
    "                for index,value in enumerate(key_values):\n",
    "                    show[f\"{key}_{index}\"]=value\n",
    "\n",
    "                    \n",
    "def equalize_attributes(shows):\n",
    "    keys=set()\n",
    "    for show in shows:\n",
    "        for key in show.keys():\n",
    "            keys.add(key)\n",
    "    for show in shows:\n",
    "        for key in keys:\n",
    "            if not key in show.keys():\n",
    "                show[key]=''\n",
    "                    \n",
    "\n",
    "def sorte_shows(shows):\n",
    "    return [ collections.OrderedDict(sorted(show.items())) for show in shows]\n",
    "                    \n",
    "                    \n",
    "                    \n",
    "def get_shows(shows):\n",
    "    list_shows=[]\n",
    "    for show in shows:\n",
    "        showDict={}\n",
    "        data={}\n",
    "        get_flattened_show(show,data)\n",
    "        list_shows.append(data)\n",
    "    split_list_attributes(list_shows)\n",
    "    equalize_attributes(list_shows)\n",
    "    return list_shows"
   ]
  },
  {
   "cell_type": "code",
   "execution_count": 3,
   "metadata": {},
   "outputs": [],
   "source": [
    "path = Path(\"./Archivdaten_2019\")\n",
    "wb=Workbook(write_only=True)\n",
    "parser = etree.XMLParser(recover=True)"
   ]
  },
  {
   "cell_type": "code",
   "execution_count": 4,
   "metadata": {},
   "outputs": [],
   "source": [
    "files=[file for file in path.iterdir() if not file.is_dir()]"
   ]
  },
  {
   "cell_type": "code",
   "execution_count": 5,
   "metadata": {},
   "outputs": [
    {
     "name": "stdout",
     "output_type": "stream",
     "text": [
      "working on 2019_3SAT.xml\n",
      "working on 2019_ARD.xml\n",
      "working on 2019_ARTE.xml\n",
      "working on 2019_BFS.xml\n",
      "working on 2019_DMAX.xml\n",
      "working on 2019_DW-tv.xml\n",
      "working on 2019_EinsFestival.xml\n",
      "working on 2019_HF.xml\n",
      "working on 2019_K1.xml\n",
      "working on 2019_K1DOKU.xml\n",
      "working on 2019_KKA.xml\n",
      "working on 2019_MDR.xml\n",
      "working on 2019_N24DOKU.xml\n",
      "working on 2019_N3_Hamburg.xml\n",
      "working on 2019_N3_Radio_Bremen.xml\n",
      "working on 2019_NTV.xml\n",
      "working on 2019_PHOENIX.xml\n",
      "working on 2019_PRO7.xml\n",
      "working on 2019_ProSiebenFun.xml\n",
      "working on 2019_ProSieben_MAXX.xml\n",
      "working on 2019_rbb_Berlin.xml\n",
      "working on 2019_RTL.xml\n",
      "working on 2019_RTL2.xml\n",
      "working on 2019_RTLplus.xml\n",
      "working on 2019_RTLS.xml\n",
      "working on 2019_RTL_Nitro.xml\n",
      "working on 2019_SAT1.xml\n",
      "working on 2019_Sat1Gold.xml\n",
      "working on 2019_sixx.xml\n",
      "working on 2019_Sport1.xml\n",
      "working on 2019_SWR_BW.xml\n",
      "working on 2019_SWR_SR.xml\n",
      "working on 2019_tagesschau24.xml\n",
      "working on 2019_Tele_5.xml\n",
      "working on 2019_VOX.xml\n",
      "working on 2019_WDR.xml\n",
      "working on 2019_WELT.xml\n",
      "working on 2019_ZDF.xml\n",
      "working on 2019_ZDFneo.xml\n",
      "working on 2019_ZDF_Info.xml\n"
     ]
    }
   ],
   "source": [
    "for file in files:\n",
    "    file=file.absolute()\n",
    "    print(f\"working on {file.name}\")\n",
    "    tree = etree.parse(str(file),parser=parser)\n",
    "    shows=tree.xpath(\".//daten/einfuegen/sendung//stammdaten\")\n",
    "    new_shows=get_shows(shows)\n",
    "    sorted_shows=sorte_shows(new_shows)\n",
    "    ws=wb.create_sheet(file.stem)\n",
    "    ws.append(list(sorted_shows[0].keys()))\n",
    "    for data in sorted_shows:\n",
    "        try:\n",
    "            ws.append(list(data.values()))\n",
    "        except MemoryError as e:\n",
    "            print(e)"
   ]
  },
  {
   "cell_type": "code",
   "execution_count": 6,
   "metadata": {},
   "outputs": [],
   "source": [
    "wb.save(\"my.xlsx\")"
   ]
  }
 ],
 "metadata": {
  "kernelspec": {
   "display_name": "movie-scrapper",
   "language": "python",
   "name": "movie-scrapper"
  },
  "language_info": {
   "codemirror_mode": {
    "name": "ipython",
    "version": 3
   },
   "file_extension": ".py",
   "mimetype": "text/x-python",
   "name": "python",
   "nbconvert_exporter": "python",
   "pygments_lexer": "ipython3",
   "version": "3.8.3"
  }
 },
 "nbformat": 4,
 "nbformat_minor": 4
}
