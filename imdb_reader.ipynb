{
 "cells": [
  {
   "cell_type": "code",
   "execution_count": 1,
   "metadata": {},
   "outputs": [],
   "source": [
    "from pymongo import  MongoClient"
   ]
  },
  {
   "cell_type": "code",
   "execution_count": 9,
   "metadata": {},
   "outputs": [],
   "source": [
    "from openpyxl import Workbook,load_workbook"
   ]
  },
  {
   "cell_type": "code",
   "execution_count": 22,
   "metadata": {
    "collapsed": false,
    "jupyter": {
     "outputs_hidden": false
    },
    "pycharm": {
     "name": "#%%\n"
    }
   },
   "outputs": [],
   "source": [
    "db=MongoClient()"
   ]
  },
  {
   "cell_type": "code",
   "execution_count": 23,
   "metadata": {
    "collapsed": false,
    "jupyter": {
     "outputs_hidden": false
    },
    "pycharm": {
     "name": "#%%\n"
    }
   },
   "outputs": [],
   "source": [
    "imdb_api=db['imdb_api']"
   ]
  },
  {
   "cell_type": "code",
   "execution_count": 10,
   "metadata": {
    "collapsed": false,
    "jupyter": {
     "outputs_hidden": false
    },
    "pycharm": {
     "name": "#%%\n"
    }
   },
   "outputs": [],
   "source": [
    "workbook=load_workbook(\"imdb.xlsx\")"
   ]
  },
  {
   "cell_type": "code",
   "execution_count": 24,
   "metadata": {
    "collapsed": false,
    "jupyter": {
     "outputs_hidden": false
    },
    "pycharm": {
     "name": "#%%\n"
    }
   },
   "outputs": [],
   "source": [
    "for sheet_name in workbook.sheetnames:\n",
    "    collection=imdb_api.create_collection(sheet_name)"
   ]
  },
  {
   "cell_type": "code",
   "execution_count": 29,
   "metadata": {
    "collapsed": false,
    "jupyter": {
     "outputs_hidden": false
    },
    "pycharm": {
     "name": "#%%\n"
    }
   },
   "outputs": [],
   "source": [
    "for sheet_name in workbook.sheetnames:\n",
    "    sheet=workbook[sheet_name]\n",
    "    collection=imdb_api[sheet_name]\n",
    "    for row in sheet.iter_rows(min_row=2, max_col=3, max_row=sheet.max_row):\n",
    "        collection.insert_one({\n",
    "            \"id\":row[0].value,\n",
    "            \"data\":{},\n",
    "            \"collected\":False\n",
    "        })\n",
    "\n",
    "\n"
   ]
  },
  {
   "cell_type": "code",
   "execution_count": 30,
   "metadata": {
    "collapsed": false,
    "jupyter": {
     "outputs_hidden": false
    },
    "pycharm": {
     "name": "#%%\n"
    }
   },
   "outputs": [
    {
     "name": "stdout",
     "output_type": "stream",
     "text": [
      "b'{\"id\":null,\"title\":null,\"originalTitle\":null,\"fullTitle\":null,\"type\":null,\"year\":null,\"image\":null,\"releaseDate\":null,\"runtimeMins\":null,\"runtimeStr\":null,\"plot\":null,\"plotLocal\":null,\"plotLocalIsRtl\":false,\"awards\":null,\"directors\":null,\"directorList\":null,\"writers\":null,\"writerList\":null,\"stars\":null,\"starList\":null,\"actorList\":null,\"fullCast\":null,\"genres\":null,\"genreList\":null,\"companies\":null,\"companyList\":null,\"countries\":null,\"countryList\":null,\"languages\":null,\"languageList\":null,\"contentRating\":null,\"imDbRating\":null,\"imDbRatingVotes\":null,\"metacriticRating\":null,\"ratings\":null,\"wikipedia\":null,\"posters\":null,\"images\":null,\"trailer\":null,\"boxOffice\":null,\"tagline\":null,\"keywords\":null,\"keywordList\":null,\"similars\":null,\"tvSeriesInfo\":null,\"tvEpisodeInfo\":null,\"errorMessage\":\"Invalid API Key\"}'\n"
     ]
    }
   ],
   "source": [
    "import requests\n",
    "\n",
    "url = \"https://imdb-api.com/en/API/Title/k_1234567/tt1832382\"\n",
    "\n",
    "payload = {}\n",
    "headers= {}\n",
    "\n",
    "response = requests.request(\"GET\", url, headers=headers, data = payload)\n",
    "\n",
    "print(response.text.encode('utf8'))"
   ]
  },
  {
   "cell_type": "code",
   "execution_count": 32,
   "metadata": {
    "collapsed": false,
    "jupyter": {
     "outputs_hidden": false
    },
    "pycharm": {
     "name": "#%%\n"
    }
   },
   "outputs": [
    {
     "name": "stdout",
     "output_type": "stream",
     "text": [
      "{\"id\":null,\"title\":null,\"originalTitle\":null,\"fullTitle\":null,\"type\":null,\"year\":null,\"image\":null,\"releaseDate\":null,\"runtimeMins\":null,\"runtimeStr\":null,\"plot\":null,\"plotLocal\":null,\"plotLocalIsRtl\":false,\"awards\":null,\"directors\":null,\"directorList\":null,\"writers\":null,\"writerList\":null,\"stars\":null,\"starList\":null,\"actorList\":null,\"fullCast\":null,\"genres\":null,\"genreList\":null,\"companies\":null,\"companyList\":null,\"countries\":null,\"countryList\":null,\"languages\":null,\"languageList\":null,\"contentRating\":null,\"imDbRating\":null,\"imDbRatingVotes\":null,\"metacriticRating\":null,\"ratings\":null,\"wikipedia\":null,\"posters\":null,\"images\":null,\"trailer\":null,\"boxOffice\":null,\"tagline\":null,\"keywords\":null,\"keywordList\":null,\"similars\":null,\"tvSeriesInfo\":null,\"tvEpisodeInfo\":null,\"errorMessage\":\"Maximum usage (57292 of 30000 per day)\"}\n"
     ]
    }
   ],
   "source": [
    "import http.client\n",
    "import mimetypes\n",
    "conn = http.client.HTTPSConnection(\"imdb-api.com\", 443)\n",
    "payload = ''\n",
    "headers = {}\n",
    "conn.request(\"GET\", \"/en/API/Title/k_5tzga32n/tt1832382\", payload, headers)\n",
    "res = conn.getresponse()\n",
    "data = res.read()\n",
    "print(data.decode(\"utf-8\"))"
   ]
  }
 ],
 "metadata": {
  "kernelspec": {
   "display_name": "movie-scrapper",
   "language": "python",
   "name": "movie-scrapper"
  },
  "language_info": {
   "codemirror_mode": {
    "name": "ipython",
    "version": 3
   },
   "file_extension": ".py",
   "mimetype": "text/x-python",
   "name": "python",
   "nbconvert_exporter": "python",
   "pygments_lexer": "ipython3",
   "version": "3.8.3"
  }
 },
 "nbformat": 4,
 "nbformat_minor": 4
}