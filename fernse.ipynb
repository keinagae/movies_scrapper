{
 "cells": [
  {
   "cell_type": "code",
   "execution_count": 33,
   "metadata": {},
   "outputs": [],
   "source": [
    "from pymongo import MongoClient\n",
    "import requests\n",
    "import re"
   ]
  },
  {
   "cell_type": "code",
   "execution_count": 4,
   "metadata": {},
   "outputs": [],
   "source": [
    "db=MongoClient()"
   ]
  },
  {
   "cell_type": "code",
   "execution_count": 6,
   "metadata": {},
   "outputs": [],
   "source": [
    "stations=db.stations"
   ]
  },
  {
   "cell_type": "code",
   "execution_count": 16,
   "metadata": {},
   "outputs": [],
   "source": [
    "station=stations[stations.list_collection_names()[0]]"
   ]
  },
  {
   "cell_type": "code",
   "execution_count": 19,
   "metadata": {},
   "outputs": [
    {
     "data": {
      "text/plain": [
       "<pymongo.cursor.Cursor at 0x6f06148>"
      ]
     },
     "execution_count": 19,
     "metadata": {},
     "output_type": "execute_result"
    }
   ],
   "source": [
    "station.find({})"
   ]
  },
  {
   "cell_type": "code",
   "execution_count": 73,
   "metadata": {},
   "outputs": [],
   "source": [
    "show=list(station.find({}))[0]"
   ]
  },
  {
   "cell_type": "code",
   "execution_count": 74,
   "metadata": {},
   "outputs": [
    {
     "data": {
      "text/plain": [
       "{'_id': ObjectId('5fae432de587a0bb7593633a'),\n",
       " 'show_id': ';1020503083',\n",
       " 'title': 'Chuzpe - Klops braucht der Mensch!',\n",
       " 'subtitle': '',\n",
       " 'originaltitel': '',\n",
       " 'sender_genre': 'Spielfilm',\n",
       " 'dmb_haupt_genre': 'TV-Film',\n",
       " 'dmb_neben_genre': 'TV-Tragikomödie',\n",
       " 'produktion_land': 'Deutschland',\n",
       " 'produktion_jahr': '2015',\n",
       " 'hinweissender': '',\n",
       " 'titel_ergaenzung': '',\n",
       " 'ausstrahlung_start': 'Wiederholung von 21.15 Uhr',\n",
       " 'ausstrahlung_sender_start': '2018-12-31T01:40:00',\n",
       " 'ausstrahlung_stop': '2019-01-01T03:05:00',\n",
       " 'ausstrahlung_dauer': '85',\n",
       " 'nettolaenge': '',\n",
       " 'ausstrahlung_sender': 'HF',\n",
       " 'produzierender_sender': '',\n",
       " 'dmbInfoset_ProduktionsLaender_ProduktionsLand': 'Deutschland',\n",
       " 'dmbFolgetitel': '',\n",
       " 'dmbStaffel': '',\n",
       " 'dmbFolge': '',\n",
       " 'dmbProduktionsJahr': '2015',\n",
       " 'dmbOriginalFolgetitel': '',\n",
       " 'staff': [],\n",
       " 'produktionsLand': [{'land': 'Deutschland', 'kfz': 'D', 'alpha3': 'DEU'}],\n",
       " 'crew_united_url': '',\n",
       " 'crew_united_productions': [],\n",
       " 'crew_united_koproduzent_productions': [],\n",
       " 'cu_first_showing_country': '',\n",
       " 'cu_first_showing_station': '',\n",
       " 'cu_first_showing_date_time': '',\n",
       " 'imdb_id': 'tt4956916',\n",
       " 'imdb_link': 'https://www.imdb.com/title/tt4956916/',\n",
       " 'imdb_distributors': ['Mona Film Produktion',\n",
       "  'Tivoli Film Produktion',\n",
       "  'Universum Film (UFA)'],\n",
       " 'imdb_productions': ['Tivoli Film Produktion',\n",
       "  'ARD Degeto Film',\n",
       "  'Österreichischer Rundfunk (ORF)'],\n",
       " 'imdb_flag': 'year',\n",
       " 'cu_flag': ''}"
      ]
     },
     "execution_count": 74,
     "metadata": {},
     "output_type": "execute_result"
    }
   ],
   "source": [
    "show"
   ]
  },
  {
   "cell_type": "code",
   "execution_count": 56,
   "metadata": {},
   "outputs": [],
   "source": [
    "title=re.sub('[^A-Za-z0-9 ]+', '', show['title'])"
   ]
  },
  {
   "cell_type": "code",
   "execution_count": 63,
   "metadata": {},
   "outputs": [],
   "source": [
    "title=title.replace(\"  \",\" \")"
   ]
  },
  {
   "cell_type": "code",
   "execution_count": 65,
   "metadata": {},
   "outputs": [
    {
     "data": {
      "text/plain": [
       "'Chuzpe-Klops-braucht-der-Mensch'"
      ]
     },
     "execution_count": 65,
     "metadata": {},
     "output_type": "execute_result"
    }
   ],
   "source": [
    "title.replace(\" \",\"-\")"
   ]
  },
  {
   "cell_type": "code",
   "execution_count": 93,
   "metadata": {},
   "outputs": [],
   "source": [
    "data={\n",
    "    'suchwort': \"Chuzpe - Klops braucht der Mensch!\"\n",
    "}\n",
    "headers={\n",
    "    # 'Cookie':'PHPSESSID=9ts0udburo7801t0q07kobvu9e; CUID=N,1612435690061:ALHGLuQAAAAPTiwxNjEyNDM1NjkwMDYxwl7OM62GK8gCTrOheeOOKVhyk50IT6oC/Ss9MyXn39SOy+M+4htNkpFybldArzYhKfCcQSfvJ3j9aSpBChFMnoOWGGfT1Zbf4SNXEnLgW7fd5Cd3qJIHmOyPhBKk8CZZjYYBXJr6akvFQdkteLpuQYDiqoQnDwjlJjW8FBwbelZlgcJk3uj5rkh9cYKZ3+HKJZ/VlMXF/VmlNtaeVNhvFU4NtfHN+FKG2nwuoPIuqWBhwyuuQ5vsMFItBjr3XW3WDGO21USOBtBaQgmxOmbALzYMsFrc930vCO3OYZygWXgysqS1RU6nwrbr8uosHpmgs51CE/B2Zj/OtPTk/c2YSQ==',\n",
    "    'x-csrf-token':'$2y$10$7EeYSlFbTPlKTHCeKxRdCO2Tc9tAUtAkcY3v9muw4EGsHYrvOBklS',\n",
    "    # 'User-Agent': 'Mozilla/5.0 (Windows NT 10.0; Win64; x64) AppleWebKit/537.36 (KHTML, like Gecko) Chrome/88.0.4324.96 Safari/537.36'\n",
    "}\n",
    "response=requests.post(\"https://www.fernsehserien.de/fastsearch\",data=data,headers=headers)"
   ]
  },
  {
   "cell_type": "code",
   "execution_count": 94,
   "metadata": {},
   "outputs": [
    {
     "data": {
      "text/plain": [
       "'[{\"a\":\"sm\",\"t\":\"Chuzpe, Klops braucht der Mensch!\",\"l\":\"D 2013\",\"s\":\"chuzpe-klops-braucht-der-mensch\",\"b\":\"https:\\\\/\\\\/bilder.fernsehserien.de\\\\/epg\\\\/65e\\\\/65eabccb1f909c37a3c419de6234db7aaa5c724a.jpg\",\"c\":\"ARD Degeto\\\\/Tivoli Film\\\\/Julia Terjung\",\"f\":\"7b6f65\"}]'"
      ]
     },
     "execution_count": 94,
     "metadata": {},
     "output_type": "execute_result"
    }
   ],
   "source": [
    "response.text"
   ]
  },
  {
   "cell_type": "code",
   "execution_count": 71,
   "metadata": {},
   "outputs": [
    {
     "ename": "TypeError",
     "evalue": "request() got an unexpected keyword argument 'config'",
     "output_type": "error",
     "traceback": [
      "\u001b[1;31m---------------------------------------------------------------------------\u001b[0m",
      "\u001b[1;31mTypeError\u001b[0m                                 Traceback (most recent call last)",
      "\u001b[1;32m<ipython-input-71-a5f3bbb12a0b>\u001b[0m in \u001b[0;36m<module>\u001b[1;34m\u001b[0m\n\u001b[1;32m----> 1\u001b[1;33m \u001b[0mresponse\u001b[0m\u001b[1;33m=\u001b[0m\u001b[0mrequests\u001b[0m\u001b[1;33m.\u001b[0m\u001b[0mget\u001b[0m\u001b[1;33m(\u001b[0m\u001b[1;34m\"https://www.fernsehserien.de/filme/{title}\"\u001b[0m\u001b[1;33m,\u001b[0m\u001b[0mconfig\u001b[0m\u001b[1;33m=\u001b[0m\u001b[1;33m{\u001b[0m\u001b[1;34m'encode_uri'\u001b[0m\u001b[1;33m:\u001b[0m \u001b[1;32mFalse\u001b[0m\u001b[1;33m}\u001b[0m\u001b[1;33m)\u001b[0m\u001b[1;33m\u001b[0m\u001b[1;33m\u001b[0m\u001b[0m\n\u001b[0m",
      "\u001b[1;32mD:\\Installs\\python virtual_envs\\movies_scrapper-0G-9HH9F\\lib\\site-packages\\requests\\api.py\u001b[0m in \u001b[0;36mget\u001b[1;34m(url, params, **kwargs)\u001b[0m\n\u001b[0;32m     74\u001b[0m \u001b[1;33m\u001b[0m\u001b[0m\n\u001b[0;32m     75\u001b[0m     \u001b[0mkwargs\u001b[0m\u001b[1;33m.\u001b[0m\u001b[0msetdefault\u001b[0m\u001b[1;33m(\u001b[0m\u001b[1;34m'allow_redirects'\u001b[0m\u001b[1;33m,\u001b[0m \u001b[1;32mTrue\u001b[0m\u001b[1;33m)\u001b[0m\u001b[1;33m\u001b[0m\u001b[1;33m\u001b[0m\u001b[0m\n\u001b[1;32m---> 76\u001b[1;33m     \u001b[1;32mreturn\u001b[0m \u001b[0mrequest\u001b[0m\u001b[1;33m(\u001b[0m\u001b[1;34m'get'\u001b[0m\u001b[1;33m,\u001b[0m \u001b[0murl\u001b[0m\u001b[1;33m,\u001b[0m \u001b[0mparams\u001b[0m\u001b[1;33m=\u001b[0m\u001b[0mparams\u001b[0m\u001b[1;33m,\u001b[0m \u001b[1;33m**\u001b[0m\u001b[0mkwargs\u001b[0m\u001b[1;33m)\u001b[0m\u001b[1;33m\u001b[0m\u001b[1;33m\u001b[0m\u001b[0m\n\u001b[0m\u001b[0;32m     77\u001b[0m \u001b[1;33m\u001b[0m\u001b[0m\n\u001b[0;32m     78\u001b[0m \u001b[1;33m\u001b[0m\u001b[0m\n",
      "\u001b[1;32mD:\\Installs\\python virtual_envs\\movies_scrapper-0G-9HH9F\\lib\\site-packages\\requests\\api.py\u001b[0m in \u001b[0;36mrequest\u001b[1;34m(method, url, **kwargs)\u001b[0m\n\u001b[0;32m     59\u001b[0m     \u001b[1;31m# cases, and look like a memory leak in others.\u001b[0m\u001b[1;33m\u001b[0m\u001b[1;33m\u001b[0m\u001b[1;33m\u001b[0m\u001b[0m\n\u001b[0;32m     60\u001b[0m     \u001b[1;32mwith\u001b[0m \u001b[0msessions\u001b[0m\u001b[1;33m.\u001b[0m\u001b[0mSession\u001b[0m\u001b[1;33m(\u001b[0m\u001b[1;33m)\u001b[0m \u001b[1;32mas\u001b[0m \u001b[0msession\u001b[0m\u001b[1;33m:\u001b[0m\u001b[1;33m\u001b[0m\u001b[1;33m\u001b[0m\u001b[0m\n\u001b[1;32m---> 61\u001b[1;33m         \u001b[1;32mreturn\u001b[0m \u001b[0msession\u001b[0m\u001b[1;33m.\u001b[0m\u001b[0mrequest\u001b[0m\u001b[1;33m(\u001b[0m\u001b[0mmethod\u001b[0m\u001b[1;33m=\u001b[0m\u001b[0mmethod\u001b[0m\u001b[1;33m,\u001b[0m \u001b[0murl\u001b[0m\u001b[1;33m=\u001b[0m\u001b[0murl\u001b[0m\u001b[1;33m,\u001b[0m \u001b[1;33m**\u001b[0m\u001b[0mkwargs\u001b[0m\u001b[1;33m)\u001b[0m\u001b[1;33m\u001b[0m\u001b[1;33m\u001b[0m\u001b[0m\n\u001b[0m\u001b[0;32m     62\u001b[0m \u001b[1;33m\u001b[0m\u001b[0m\n\u001b[0;32m     63\u001b[0m \u001b[1;33m\u001b[0m\u001b[0m\n",
      "\u001b[1;31mTypeError\u001b[0m: request() got an unexpected keyword argument 'config'"
     ]
    }
   ],
   "source": [
    "response=requests.get(\"https://www.fernsehserien.de/filme/{title}\",config={'encode_uri': False})"
   ]
  },
  {
   "cell_type": "code",
   "execution_count": 82,
   "metadata": {},
   "outputs": [],
   "source": [
    "response=requests.get('https://www.fernsehserien.de/filme/chuzpe-klops-braucht-der-mensch')"
   ]
  },
  {
   "cell_type": "code",
   "execution_count": 83,
   "metadata": {},
   "outputs": [
    {
     "data": {
      "text/plain": [
       "200"
      ]
     },
     "execution_count": 83,
     "metadata": {},
     "output_type": "execute_result"
    }
   ],
   "source": [
    "response.status_code"
   ]
  }
 ],
 "metadata": {
  "kernelspec": {
   "display_name": "movie-scrapper",
   "language": "python",
   "name": "movie-scrapper"
  },
  "language_info": {
   "codemirror_mode": {
    "name": "ipython",
    "version": 3
   },
   "file_extension": ".py",
   "mimetype": "text/x-python",
   "name": "python",
   "nbconvert_exporter": "python",
   "pygments_lexer": "ipython3",
   "version": "3.8.3"
  }
 },
 "nbformat": 4,
 "nbformat_minor": 4
}
